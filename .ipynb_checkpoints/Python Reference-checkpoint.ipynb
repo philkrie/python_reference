{
 "cells": [
  {
   "cell_type": "markdown",
   "metadata": {
    "collapsed": true
   },
   "source": [
    "# Python Reference Guide\n",
    "Python is a powerful, portable, extensible, and productive language that runs on basically everything. You can use it to make a video game, perform data science, launch a rocket, or make a website. The choice is yours."
   ]
  },
  {
   "cell_type": "code",
   "execution_count": 9,
   "metadata": {
    "collapsed": false,
    "scrolled": true
   },
   "outputs": [
    {
     "name": "stdout",
     "output_type": "stream",
     "text": [
      "The Zen of Python, by Tim Peters\n",
      "\n",
      "Beautiful is better than ugly.\n",
      "Explicit is better than implicit.\n",
      "Simple is better than complex.\n",
      "Complex is better than complicated.\n",
      "Flat is better than nested.\n",
      "Sparse is better than dense.\n",
      "Readability counts.\n",
      "Special cases aren't special enough to break the rules.\n",
      "Although practicality beats purity.\n",
      "Errors should never pass silently.\n",
      "Unless explicitly silenced.\n",
      "In the face of ambiguity, refuse the temptation to guess.\n",
      "There should be one-- and preferably only one --obvious way to do it.\n",
      "Although that way may not be obvious at first unless you're Dutch.\n",
      "Now is better than never.\n",
      "Although never is often better than *right* now.\n",
      "If the implementation is hard to explain, it's a bad idea.\n",
      "If the implementation is easy to explain, it may be a good idea.\n",
      "Namespaces are one honking great idea -- let's do more of those!\n"
     ]
    }
   ],
   "source": [
    "import this #Easter Egg on the philosophy of Python"
   ]
  },
  {
   "cell_type": "markdown",
   "metadata": {},
   "source": [
    "## Basics and Using Files"
   ]
  },
  {
   "cell_type": "markdown",
   "metadata": {},
   "source": [
    "When you run a python program, each line gets passed through the Python Interpreter, the version of which depends on what you're using (this notebook uses Python 3.5). To be more specific, the python code is compiled into byte code, which is then sent to the Python Virtual Machine (PVM), or the execution engine of the Python Interpreter. The byte code is sometimes stored in .pyc files for later use. Unlike C or C++, there is no 'build' or 'make' step. As a result of this architecture, Python is neither as slow as traditional interpreted languages nor as fast as a traditional compiled language."
   ]
  },
  {
   "cell_type": "code",
   "execution_count": 10,
   "metadata": {
    "collapsed": false
   },
   "outputs": [
    {
     "name": "stdout",
     "output_type": "stream",
     "text": [
      "Hello World\n",
      "1267650600228229401496703205376\n"
     ]
    }
   ],
   "source": [
    "print('Hello World')\n",
    "print(2 ** 100)"
   ]
  },
  {
   "cell_type": "markdown",
   "metadata": {},
   "source": [
    "The script above simply prints out 'Hello World'. If we start the python interactive prompt from a terminal, we don't have to use the 'print' statement, but here in Jupyter, we will only output if we print the result of the code block. The script below shows the use of the sys module, which allows you get information and interact with your computer system. In this case, we printed out sys.platform, which should change depending on what platform you are running this notebook on. Also notice the string repetition that occurs when you 'multiply' a string."
   ]
  },
  {
   "cell_type": "code",
   "execution_count": 2,
   "metadata": {
    "collapsed": false
   },
   "outputs": [
    {
     "name": "stdout",
     "output_type": "stream",
     "text": [
      "darwin\n",
      "spam!spam!spam!spam!spam!spam!spam!spam!\n"
     ]
    }
   ],
   "source": [
    "import sys\n",
    "print(sys.platform)\n",
    "x = 'spam!' * 8\n",
    "print(x)"
   ]
  },
  {
   "cell_type": "markdown",
   "metadata": {
    "collapsed": true
   },
   "source": [
    "Note the 'import' statement. You use this statement to import any and all python modules that you have available. A python module is any python file: you can use those provided or create your own. You simply have to \"import filename\" to get access to all of the attributes in the file. Simply call filename.attr to select the attribute you need."
   ]
  },
  {
   "cell_type": "code",
   "execution_count": 1,
   "metadata": {
    "collapsed": false
   },
   "outputs": [
    {
     "name": "stdout",
     "output_type": "stream",
     "text": [
      "Hello module world!\n"
     ]
    }
   ],
   "source": [
    "import module1"
   ]
  },
  {
   "cell_type": "markdown",
   "metadata": {},
   "source": [
    "We create a simple module1.py file and imported it. All it does is print out \"Hello module world!\""
   ]
  },
  {
   "cell_type": "code",
   "execution_count": 14,
   "metadata": {
    "collapsed": false,
    "scrolled": true
   },
   "outputs": [
    {
     "name": "stdout",
     "output_type": "stream",
     "text": [
      "darwin\n",
      "spam!spam!spam!spam!spam!spam!spam!spam!\n"
     ]
    }
   ],
   "source": [
    "from sys import platform\n",
    "print(platform)\n",
    "x = 'spam!' * 8\n",
    "print(x)"
   ]
  },
  {
   "cell_type": "markdown",
   "metadata": {},
   "source": [
    "Using the 'from' statement, you can pull out a specific attribute using the syntax 'from filename import attr'. You can then reference the attribute without the dot notation. Above you see the exact same code as before but we can call 'platform' instead of 'sys.platform'"
   ]
  },
  {
   "cell_type": "markdown",
   "metadata": {},
   "source": [
    "## Types and Operations"
   ]
  },
  {
   "cell_type": "markdown",
   "metadata": {},
   "source": [
    "In python, we do STUFF with THINGS (operations with types). Python programs can be decomposed into a hierarchy:\n",
    "1. Programs consist of modules\n",
    "2. Modules contain statements\n",
    "3. Statements contain expressions\n",
    "4. Expressions create and process objects\n",
    "\n",
    "Python is littered with a bevy of built-in types that you should take advantage of to save time and be more efficient. They are also usually going to be much faster and more performant than anything you could make."
   ]
  },
  {
   "cell_type": "code",
   "execution_count": 20,
   "metadata": {
    "collapsed": false
   },
   "outputs": [
    {
     "data": {
      "text/plain": [
       "(True, False, type, None)"
      ]
     },
     "execution_count": 20,
     "metadata": {},
     "output_type": "execute_result"
    }
   ],
   "source": [
    "#Numbers\n",
    "1234, 3.1315, 3+4j, 0b111\n",
    "\n",
    "#Strings\n",
    "'spam', \"Bob's\", b'a\\x01c', u'sp\\xc4m'\n",
    "\n",
    "#Lists\n",
    "[1, [2, 'three'], 4.5], list(range(10))\n",
    "\n",
    "#Dictionaries\n",
    "{'food': 'spam', 'taste': 'yum'}, dict(hours=10)\n",
    "\n",
    "#Tuples\n",
    "(1, 'spam', 4, 'U'), tuple('spam')\n",
    "\n",
    "#Files\n",
    "open('eggs.txt')\n",
    "\n",
    "#Sets\n",
    "set('abc'), {'a', 'b', 'c'}\n",
    "\n",
    "#Booleans, Types, None\n",
    "True, False, type, None\n",
    "\n",
    "#Program unit types\n",
    "#functions, modules, classes\n",
    "\n",
    "#Implementation-related types\n",
    "#compiled code, stack tracebacks"
   ]
  },
  {
   "cell_type": "markdown",
   "metadata": {},
   "source": [
    "There are many other types, but these are the core data types in Python, built into the language.\n",
    "Python is dynamically typed, meaning that you don't declare var types: rather, they interpreter implies the type. \n",
    "Python is also strongly typed, meaning that you can only perform string operations on a string, number operations on a number, etc.\n",
    "Let's take a look at each one in depth"
   ]
  },
  {
   "cell_type": "markdown",
   "metadata": {},
   "source": [
    "### Numbers"
   ]
  },
  {
   "cell_type": "code",
   "execution_count": 26,
   "metadata": {
    "collapsed": false
   },
   "outputs": [
    {
     "name": "stdout",
     "output_type": "stream",
     "text": [
      "245\n",
      "6.0\n",
      "1267650600228229401496703205376\n"
     ]
    }
   ],
   "source": [
    "print(123+122)\n",
    "print(1.5*4)\n",
    "print(2 ** 100)"
   ]
  },
  {
   "cell_type": "markdown",
   "metadata": {},
   "source": [
    "Numbers in python are just like in most languages: they support basic mathematical functions and come in a variety of flavours: integers, floating point, decimals, rationals, imaginary, etc.\n",
    "Python 3 integers are automatically \"big ints\" unlike in Python 2 where that's a seperate class. As a result, you can do some pretty big calculations, but they could take a while. The code below converts a huge number to a string using the str() method, then takes the length using the len() method. That number has a lot of digits!"
   ]
  },
  {
   "cell_type": "code",
   "execution_count": 30,
   "metadata": {
    "collapsed": false
   },
   "outputs": [
    {
     "data": {
      "text/plain": [
       "301030"
      ]
     },
     "execution_count": 30,
     "metadata": {},
     "output_type": "execute_result"
    }
   ],
   "source": [
    "len(str(2 ** 1000000))"
   ]
  },
  {
   "cell_type": "markdown",
   "metadata": {},
   "source": [
    "Remember imports? The 'math' module is a great resource for advanced mathematical operations and values."
   ]
  },
  {
   "cell_type": "code",
   "execution_count": 31,
   "metadata": {
    "collapsed": false
   },
   "outputs": [
    {
     "name": "stdout",
     "output_type": "stream",
     "text": [
      "3.141592653589793\n",
      "9.219544457292887\n"
     ]
    }
   ],
   "source": [
    "import math\n",
    "print(math.pi)\n",
    "print(math.sqrt(85))"
   ]
  },
  {
   "cell_type": "markdown",
   "metadata": {},
   "source": [
    "The random module can help you generate some random numbers for your code"
   ]
  },
  {
   "cell_type": "code",
   "execution_count": 35,
   "metadata": {
    "collapsed": false
   },
   "outputs": [
    {
     "name": "stdout",
     "output_type": "stream",
     "text": [
      "0.9586726154443163\n",
      "1\n"
     ]
    }
   ],
   "source": [
    "import random\n",
    "print(random.random())\n",
    "print(random.choice([1, 2, 3, 4]))"
   ]
  },
  {
   "cell_type": "markdown",
   "metadata": {},
   "source": [
    "### Strings"
   ]
  },
  {
   "cell_type": "markdown",
   "metadata": {},
   "source": [
    "Strings are a sequence of one-character strings that can represent anything from words to image files bytes. Strings support sequence operations as a result. We can access parts of the string using indexes, with the first character being represented as S[0]. We can also index backwards using negatives."
   ]
  },
  {
   "cell_type": "code",
   "execution_count": 41,
   "metadata": {
    "collapsed": false
   },
   "outputs": [
    {
     "name": "stdout",
     "output_type": "stream",
     "text": [
      "4\n",
      "s\n",
      "p\n",
      "m\n"
     ]
    }
   ],
   "source": [
    "S = 'spam'\n",
    "print(len(S))\n",
    "print(S[0])\n",
    "print(S[1])\n",
    "print(S[-1])"
   ]
  },
  {
   "cell_type": "markdown",
   "metadata": {},
   "source": [
    "We can also slice and dice our strings using an index method called 'slicing'. We essentially pick out the characters from starting from an index and going to but not including an index. Omitting a value defaults to 0 on the left and the length on the right."
   ]
  },
  {
   "cell_type": "code",
   "execution_count": 43,
   "metadata": {
    "collapsed": false
   },
   "outputs": [
    {
     "name": "stdout",
     "output_type": "stream",
     "text": [
      "pa\n",
      "pam\n",
      "sp\n"
     ]
    }
   ],
   "source": [
    "print(S[1:3])\n",
    "print(S[1:])\n",
    "print(S[:2])"
   ]
  },
  {
   "cell_type": "markdown",
   "metadata": {},
   "source": [
    "You can concatenate strings using '+' to create new strings"
   ]
  },
  {
   "cell_type": "code",
   "execution_count": 45,
   "metadata": {
    "collapsed": false
   },
   "outputs": [
    {
     "name": "stdout",
     "output_type": "stream",
     "text": [
      "spamxyz\n",
      "spam\n"
     ]
    }
   ],
   "source": [
    "print(S + 'xyz')\n",
    "print(S)"
   ]
  },
  {
   "cell_type": "markdown",
   "metadata": {},
   "source": [
    "However, this didn't change S... in python, strings are IMMUTABLE. This means they cannot be changed in place once they are created. Any change is reflected in a new string.\n",
    "Numbers, strings, and tuples are immutable.\n",
    "Lists, dictionaries and sets are mutable.\n",
    "\n",
    "All of the operations we've done on strings so far have been simply operations you can perform on sequences, and not necesarily specific to strings. Strings also have type specific functions (as do most other objects) such as find, replace, split, etc."
   ]
  },
  {
   "cell_type": "code",
   "execution_count": 46,
   "metadata": {
    "collapsed": false
   },
   "outputs": [
    {
     "data": {
      "text/plain": [
       "1"
      ]
     },
     "execution_count": 46,
     "metadata": {},
     "output_type": "execute_result"
    }
   ],
   "source": [
    "S = 'Spam'\n",
    "S.find('pa')                 # Find the offset of a substring in S"
   ]
  },
  {
   "cell_type": "code",
   "execution_count": 47,
   "metadata": {
    "collapsed": false
   },
   "outputs": [
    {
     "data": {
      "text/plain": [
       "'SXYZm'"
      ]
     },
     "execution_count": 47,
     "metadata": {},
     "output_type": "execute_result"
    }
   ],
   "source": [
    "S.replace('pa', 'XYZ')       # Replace occurrences of a string in S with another\n",
    "'SXYZm'"
   ]
  },
  {
   "cell_type": "code",
   "execution_count": 48,
   "metadata": {
    "collapsed": false
   },
   "outputs": [
    {
     "data": {
      "text/plain": [
       "['aaa', 'bbb', 'ccccc', 'dd']"
      ]
     },
     "execution_count": 48,
     "metadata": {},
     "output_type": "execute_result"
    }
   ],
   "source": [
    "line = 'aaa,bbb,ccccc,dd'\n",
    "line.split(',')              # Split on a delimiter into a list of substrings"
   ]
  },
  {
   "cell_type": "code",
   "execution_count": 51,
   "metadata": {
    "collapsed": false
   },
   "outputs": [
    {
     "name": "stdout",
     "output_type": "stream",
     "text": [
      "SPAM\n"
     ]
    },
    {
     "data": {
      "text/plain": [
       "True"
      ]
     },
     "execution_count": 51,
     "metadata": {},
     "output_type": "execute_result"
    }
   ],
   "source": [
    "S = 'spam'\n",
    "print(S.upper())                   # Upper- and lowercase conversions\n",
    "S.isalpha()                  # Content tests: isalpha, isdigit, etc.\n",
    "True"
   ]
  },
  {
   "cell_type": "code",
   "execution_count": 52,
   "metadata": {
    "collapsed": false
   },
   "outputs": [
    {
     "data": {
      "text/plain": [
       "['aaa', 'bbb', 'ccccc', 'dd']"
      ]
     },
     "execution_count": 52,
     "metadata": {},
     "output_type": "execute_result"
    }
   ],
   "source": [
    "line = 'aaa,bbb,ccccc,dd\\n'\n",
    "line.rstrip()                # Remove whitespace characters on the right side\n",
    "line.rstrip().split(',')     # Combine two operations"
   ]
  },
  {
   "cell_type": "markdown",
   "metadata": {},
   "source": [
    "We can also format strings in python using a few different ways, but all boil down to have a term that serves as a placeholder for a tuple of strings, which are replaced in that order."
   ]
  },
  {
   "cell_type": "code",
   "execution_count": 53,
   "metadata": {
    "collapsed": false
   },
   "outputs": [
    {
     "name": "stdout",
     "output_type": "stream",
     "text": [
      "spam, eggs, and SPAM!\n",
      "spam, eggs, and SPAM!\n",
      "spam, eggs, and SPAM!\n"
     ]
    }
   ],
   "source": [
    "print('%s, eggs, and %s' % ('spam', 'SPAM!'))        # Formatting expression (all)\n",
    "\n",
    "print('{0}, eggs, and {1}'.format('spam', 'SPAM!'))   # Formatting method (2.6+, 3.0+)\n",
    "\n",
    "print('{}, eggs, and {}'.format('spam', 'SPAM!'))    # Numbers optional (2.7+, 3.1+)"
   ]
  },
  {
   "cell_type": "markdown",
   "metadata": {},
   "source": [
    "If you ever forget methods, look up documentation or use the built in dir function, which will show all of an objects applicable attributes, then pass one to the help function to get more details."
   ]
  },
  {
   "cell_type": "code",
   "execution_count": 54,
   "metadata": {
    "collapsed": false
   },
   "outputs": [
    {
     "data": {
      "text/plain": [
       "['__add__',\n",
       " '__class__',\n",
       " '__contains__',\n",
       " '__delattr__',\n",
       " '__dir__',\n",
       " '__doc__',\n",
       " '__eq__',\n",
       " '__format__',\n",
       " '__ge__',\n",
       " '__getattribute__',\n",
       " '__getitem__',\n",
       " '__getnewargs__',\n",
       " '__gt__',\n",
       " '__hash__',\n",
       " '__init__',\n",
       " '__iter__',\n",
       " '__le__',\n",
       " '__len__',\n",
       " '__lt__',\n",
       " '__mod__',\n",
       " '__mul__',\n",
       " '__ne__',\n",
       " '__new__',\n",
       " '__reduce__',\n",
       " '__reduce_ex__',\n",
       " '__repr__',\n",
       " '__rmod__',\n",
       " '__rmul__',\n",
       " '__setattr__',\n",
       " '__sizeof__',\n",
       " '__str__',\n",
       " '__subclasshook__',\n",
       " 'capitalize',\n",
       " 'casefold',\n",
       " 'center',\n",
       " 'count',\n",
       " 'encode',\n",
       " 'endswith',\n",
       " 'expandtabs',\n",
       " 'find',\n",
       " 'format',\n",
       " 'format_map',\n",
       " 'index',\n",
       " 'isalnum',\n",
       " 'isalpha',\n",
       " 'isdecimal',\n",
       " 'isdigit',\n",
       " 'isidentifier',\n",
       " 'islower',\n",
       " 'isnumeric',\n",
       " 'isprintable',\n",
       " 'isspace',\n",
       " 'istitle',\n",
       " 'isupper',\n",
       " 'join',\n",
       " 'ljust',\n",
       " 'lower',\n",
       " 'lstrip',\n",
       " 'maketrans',\n",
       " 'partition',\n",
       " 'replace',\n",
       " 'rfind',\n",
       " 'rindex',\n",
       " 'rjust',\n",
       " 'rpartition',\n",
       " 'rsplit',\n",
       " 'rstrip',\n",
       " 'split',\n",
       " 'splitlines',\n",
       " 'startswith',\n",
       " 'strip',\n",
       " 'swapcase',\n",
       " 'title',\n",
       " 'translate',\n",
       " 'upper',\n",
       " 'zfill']"
      ]
     },
     "execution_count": 54,
     "metadata": {},
     "output_type": "execute_result"
    }
   ],
   "source": [
    "dir(S)"
   ]
  },
  {
   "cell_type": "code",
   "execution_count": 55,
   "metadata": {
    "collapsed": false
   },
   "outputs": [
    {
     "name": "stdout",
     "output_type": "stream",
     "text": [
      "Help on built-in function replace:\n",
      "\n",
      "replace(...) method of builtins.str instance\n",
      "    S.replace(old, new[, count]) -> str\n",
      "    \n",
      "    Return a copy of S with all occurrences of substring\n",
      "    old replaced by new.  If the optional argument count is\n",
      "    given, only the first count occurrences are replaced.\n",
      "\n"
     ]
    }
   ],
   "source": [
    "help(S.replace)"
   ]
  },
  {
   "cell_type": "markdown",
   "metadata": {},
   "source": [
    "Several special characters exist, denoted by a backslash (backslash escapes characters as well)"
   ]
  },
  {
   "cell_type": "code",
   "execution_count": 64,
   "metadata": {
    "collapsed": false
   },
   "outputs": [
    {
     "name": "stdout",
     "output_type": "stream",
     "text": [
      "hello\n",
      "\t\n",
      "A\u0000B\u0000C\n"
     ]
    }
   ],
   "source": [
    "print(\"hello\\n\\t\") #\\n = newline \\t = tab\n",
    "print(\"A\\0B\\0C\") #binary zero byte"
   ]
  },
  {
   "cell_type": "markdown",
   "metadata": {},
   "source": [
    "Single quotes or double? Use either, it just means the other one doesn't have to be escaped in the string. Use \"\"\" to create multi string lines which is useful for XML or HTML embedded in your python code."
   ]
  },
  {
   "cell_type": "code",
   "execution_count": 67,
   "metadata": {
    "collapsed": false
   },
   "outputs": [
    {
     "name": "stdout",
     "output_type": "stream",
     "text": [
      "\n",
      "aaaaaaaaaaaaa\n",
      "bbb'''bbbbbbbbbb\"\"bbbbbbb'bbbb\n",
      "cccccccccccccc\n",
      "\n"
     ]
    }
   ],
   "source": [
    "msg = \"\"\"\n",
    "aaaaaaaaaaaaa\n",
    "bbb'''bbbbbbbbbb\"\"bbbbbbb'bbbb\n",
    "cccccccccccccc\n",
    "\"\"\"\n",
    "print(msg)"
   ]
  },
  {
   "cell_type": "markdown",
   "metadata": {},
   "source": [
    "In python 3, all strings handle unicode just fine. We can also work with byte strings"
   ]
  },
  {
   "cell_type": "code",
   "execution_count": 68,
   "metadata": {
    "collapsed": false
   },
   "outputs": [
    {
     "name": "stdout",
     "output_type": "stream",
     "text": [
      "spÄm\n",
      "b'a\\x01c'\n"
     ]
    }
   ],
   "source": [
    "print('sp\\xc4m')                   # 3.X: normal str strings are Unicode text\n",
    "'spÄm'\n",
    "print(b'a\\x01c') # bytes strings are byte-based data"
   ]
  },
  {
   "cell_type": "markdown",
   "metadata": {},
   "source": [
    "Phew! Strings have a lot to keep in mind! They are complicated, but that's because they are so basic and integral to the very language. Before we move on, one more thing: pattern matching. Using the re library, we can pick out substrings based on regex."
   ]
  },
  {
   "cell_type": "code",
   "execution_count": 69,
   "metadata": {
    "collapsed": false
   },
   "outputs": [
    {
     "data": {
      "text/plain": [
       "'Python '"
      ]
     },
     "execution_count": 69,
     "metadata": {},
     "output_type": "execute_result"
    }
   ],
   "source": [
    "import re\n",
    "match = re.match('Hello[ \\t]*(.*)world', 'Hello    Python world')\n",
    "match.group(1)"
   ]
  },
  {
   "cell_type": "markdown",
   "metadata": {},
   "source": [
    "If you know regex, great. If not, don't worry about it in the scope of learning python. When you need it, research it. It's a whole thing of its own."
   ]
  }
 ],
 "metadata": {
  "anaconda-cloud": {},
  "kernelspec": {
   "display_name": "Python 3",
   "language": "python",
   "name": "python3"
  },
  "language_info": {
   "codemirror_mode": {
    "name": "ipython",
    "version": 3
   },
   "file_extension": ".py",
   "mimetype": "text/x-python",
   "name": "python",
   "nbconvert_exporter": "python",
   "pygments_lexer": "ipython3",
   "version": "3.5.2"
  }
 },
 "nbformat": 4,
 "nbformat_minor": 0
}

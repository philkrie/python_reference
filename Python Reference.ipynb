{
 "cells": [
  {
   "cell_type": "markdown",
   "metadata": {
    "collapsed": true
   },
   "source": [
    "# Python Reference Guide to Really Understanding Python and How it Works\n",
    "Python is a powerful, portable, extensible, and productive language that runs on basically everything. You can use it to make a video game, perform data science, launch a rocket, or make a website. The choice is yours."
   ]
  },
  {
   "cell_type": "code",
   "execution_count": 9,
   "metadata": {
    "collapsed": false,
    "scrolled": true
   },
   "outputs": [
    {
     "name": "stdout",
     "output_type": "stream",
     "text": [
      "The Zen of Python, by Tim Peters\n",
      "\n",
      "Beautiful is better than ugly.\n",
      "Explicit is better than implicit.\n",
      "Simple is better than complex.\n",
      "Complex is better than complicated.\n",
      "Flat is better than nested.\n",
      "Sparse is better than dense.\n",
      "Readability counts.\n",
      "Special cases aren't special enough to break the rules.\n",
      "Although practicality beats purity.\n",
      "Errors should never pass silently.\n",
      "Unless explicitly silenced.\n",
      "In the face of ambiguity, refuse the temptation to guess.\n",
      "There should be one-- and preferably only one --obvious way to do it.\n",
      "Although that way may not be obvious at first unless you're Dutch.\n",
      "Now is better than never.\n",
      "Although never is often better than *right* now.\n",
      "If the implementation is hard to explain, it's a bad idea.\n",
      "If the implementation is easy to explain, it may be a good idea.\n",
      "Namespaces are one honking great idea -- let's do more of those!\n"
     ]
    }
   ],
   "source": [
    "import this #Easter Egg on the philosophy of Python"
   ]
  },
  {
   "cell_type": "markdown",
   "metadata": {},
   "source": [
    "## Basics and Using Files"
   ]
  },
  {
   "cell_type": "markdown",
   "metadata": {},
   "source": [
    "When you run a python program, each line gets passed through the Python Interpreter, the version of which depends on what you're using (this notebook uses Python 3.5). To be more specific, the python code is compiled into byte code, which is then sent to the Python Virtual Machine (PVM), or the execution engine of the Python Interpreter. The byte code is sometimes stored in .pyc files for later use. Unlike C or C++, there is no 'build' or 'make' step. As a result of this architecture, Python is neither as slow as traditional interpreted languages nor as fast as a traditional compiled language."
   ]
  },
  {
   "cell_type": "code",
   "execution_count": 10,
   "metadata": {
    "collapsed": false
   },
   "outputs": [
    {
     "name": "stdout",
     "output_type": "stream",
     "text": [
      "Hello World\n",
      "1267650600228229401496703205376\n"
     ]
    }
   ],
   "source": [
    "print('Hello World')\n",
    "print(2 ** 100)"
   ]
  },
  {
   "cell_type": "markdown",
   "metadata": {},
   "source": [
    "The script above simply prints out 'Hello World'. If we start the python interactive prompt from a terminal, we don't have to use the 'print' statement, but here in Jupyter, we will only output if we print the result of the code block. The script below shows the use of the sys module, which allows you get information and interact with your computer system. In this case, we printed out sys.platform, which should change depending on what platform you are running this notebook on. Also notice the string repetition that occurs when you 'multiply' a string."
   ]
  },
  {
   "cell_type": "code",
   "execution_count": 2,
   "metadata": {
    "collapsed": false
   },
   "outputs": [
    {
     "name": "stdout",
     "output_type": "stream",
     "text": [
      "darwin\n",
      "spam!spam!spam!spam!spam!spam!spam!spam!\n"
     ]
    }
   ],
   "source": [
    "import sys\n",
    "print(sys.platform)\n",
    "x = 'spam!' * 8\n",
    "print(x)"
   ]
  },
  {
   "cell_type": "markdown",
   "metadata": {
    "collapsed": true
   },
   "source": [
    "Note the 'import' statement. You use this statement to import any and all python modules that you have available. A python module is any python file: you can use those provided or create your own. You simply have to \"import filename\" to get access to all of the attributes in the file. Simply call filename.attr to select the attribute you need."
   ]
  },
  {
   "cell_type": "code",
   "execution_count": 1,
   "metadata": {
    "collapsed": false
   },
   "outputs": [
    {
     "name": "stdout",
     "output_type": "stream",
     "text": [
      "Hello module world!\n"
     ]
    }
   ],
   "source": [
    "import module1"
   ]
  },
  {
   "cell_type": "markdown",
   "metadata": {},
   "source": [
    "We create a simple module1.py file and imported it. All it does is print out \"Hello module world!\""
   ]
  },
  {
   "cell_type": "code",
   "execution_count": 14,
   "metadata": {
    "collapsed": false,
    "scrolled": true
   },
   "outputs": [
    {
     "name": "stdout",
     "output_type": "stream",
     "text": [
      "darwin\n",
      "spam!spam!spam!spam!spam!spam!spam!spam!\n"
     ]
    }
   ],
   "source": [
    "from sys import platform\n",
    "print(platform)\n",
    "x = 'spam!' * 8\n",
    "print(x)"
   ]
  },
  {
   "cell_type": "markdown",
   "metadata": {},
   "source": [
    "Using the 'from' statement, you can pull out a specific attribute using the syntax 'from filename import attr'. You can then reference the attribute without the dot notation. Above you see the exact same code as before but we can call 'platform' instead of 'sys.platform'"
   ]
  },
  {
   "cell_type": "markdown",
   "metadata": {},
   "source": [
    "## Types and Operations"
   ]
  },
  {
   "cell_type": "markdown",
   "metadata": {},
   "source": [
    "In python, we do STUFF with THINGS (operations with types). Python programs can be decomposed into a hierarchy:\n",
    "1. Programs consist of modules\n",
    "2. Modules contain statements\n",
    "3. Statements contain expressions\n",
    "4. Expressions create and process objects\n",
    "\n",
    "Python is littered with a bevy of built-in types that you should take advantage of to save time and be more efficient. They are also usually going to be much faster and more performant than anything you could make."
   ]
  },
  {
   "cell_type": "code",
   "execution_count": 20,
   "metadata": {
    "collapsed": false
   },
   "outputs": [
    {
     "data": {
      "text/plain": [
       "(True, False, type, None)"
      ]
     },
     "execution_count": 20,
     "metadata": {},
     "output_type": "execute_result"
    }
   ],
   "source": [
    "#Numbers\n",
    "1234, 3.1315, 3+4j, 0b111\n",
    "\n",
    "#Strings\n",
    "'spam', \"Bob's\", b'a\\x01c', u'sp\\xc4m'\n",
    "\n",
    "#Lists\n",
    "[1, [2, 'three'], 4.5], list(range(10))\n",
    "\n",
    "#Dictionaries\n",
    "{'food': 'spam', 'taste': 'yum'}, dict(hours=10)\n",
    "\n",
    "#Tuples\n",
    "(1, 'spam', 4, 'U'), tuple('spam')\n",
    "\n",
    "#Files\n",
    "open('eggs.txt')\n",
    "\n",
    "#Sets\n",
    "set('abc'), {'a', 'b', 'c'}\n",
    "\n",
    "#Booleans, Types, None\n",
    "True, False, type, None\n",
    "\n",
    "#Program unit types\n",
    "#functions, modules, classes\n",
    "\n",
    "#Implementation-related types\n",
    "#compiled code, stack tracebacks"
   ]
  },
  {
   "cell_type": "markdown",
   "metadata": {},
   "source": [
    "There are many other types, but these are the core data types in Python, built into the language.\n",
    "Python is dynamically typed, meaning that you don't declare var types: rather, they interpreter implies the type. \n",
    "Python is also strongly typed, meaning that you can only perform string operations on a string, number operations on a number, etc.\n",
    "Let's take a look at each one in depth"
   ]
  },
  {
   "cell_type": "markdown",
   "metadata": {},
   "source": [
    "### Numbers"
   ]
  },
  {
   "cell_type": "code",
   "execution_count": 26,
   "metadata": {
    "collapsed": false
   },
   "outputs": [
    {
     "name": "stdout",
     "output_type": "stream",
     "text": [
      "245\n",
      "6.0\n",
      "1267650600228229401496703205376\n"
     ]
    }
   ],
   "source": [
    "print(123+122)\n",
    "print(1.5*4)\n",
    "print(2 ** 100)"
   ]
  },
  {
   "cell_type": "markdown",
   "metadata": {},
   "source": [
    "Numbers in python are just like in most languages: they support basic mathematical functions and come in a variety of flavours: integers, floating point, decimals, rationals, imaginary, etc.\n",
    "Python 3 integers are automatically \"big ints\" unlike in Python 2 where that's a seperate class. As a result, you can do some pretty big calculations, but they could take a while. The code below converts a huge number to a string using the str() method, then takes the length using the len() method. That number has a lot of digits!"
   ]
  },
  {
   "cell_type": "code",
   "execution_count": 30,
   "metadata": {
    "collapsed": false
   },
   "outputs": [
    {
     "data": {
      "text/plain": [
       "301030"
      ]
     },
     "execution_count": 30,
     "metadata": {},
     "output_type": "execute_result"
    }
   ],
   "source": [
    "len(str(2 ** 1000000))"
   ]
  },
  {
   "cell_type": "markdown",
   "metadata": {},
   "source": [
    "Remember imports? The 'math' module is a great resource for advanced mathematical operations and values."
   ]
  },
  {
   "cell_type": "code",
   "execution_count": 31,
   "metadata": {
    "collapsed": false
   },
   "outputs": [
    {
     "name": "stdout",
     "output_type": "stream",
     "text": [
      "3.141592653589793\n",
      "9.219544457292887\n"
     ]
    }
   ],
   "source": [
    "import math\n",
    "print(math.pi)\n",
    "print(math.sqrt(85))"
   ]
  },
  {
   "cell_type": "markdown",
   "metadata": {},
   "source": [
    "The random module can help you generate some random numbers for your code"
   ]
  },
  {
   "cell_type": "code",
   "execution_count": 35,
   "metadata": {
    "collapsed": false
   },
   "outputs": [
    {
     "name": "stdout",
     "output_type": "stream",
     "text": [
      "0.9586726154443163\n",
      "1\n"
     ]
    }
   ],
   "source": [
    "import random\n",
    "print(random.random())\n",
    "print(random.choice([1, 2, 3, 4]))"
   ]
  },
  {
   "cell_type": "markdown",
   "metadata": {},
   "source": [
    "### Strings"
   ]
  },
  {
   "cell_type": "markdown",
   "metadata": {},
   "source": [
    "Strings are a sequence of one-character strings that can represent anything from words to image files bytes. Strings support sequence operations as a result. We can access parts of the string using indexes, with the first character being represented as S[0]. We can also index backwards using negatives."
   ]
  },
  {
   "cell_type": "code",
   "execution_count": 41,
   "metadata": {
    "collapsed": false
   },
   "outputs": [
    {
     "name": "stdout",
     "output_type": "stream",
     "text": [
      "4\n",
      "s\n",
      "p\n",
      "m\n"
     ]
    }
   ],
   "source": [
    "S = 'spam'\n",
    "print(len(S))\n",
    "print(S[0])\n",
    "print(S[1])\n",
    "print(S[-1])"
   ]
  },
  {
   "cell_type": "markdown",
   "metadata": {},
   "source": [
    "We can also slice and dice our strings using an index method called 'slicing'. We essentially pick out the characters from starting from an index and going to but not including an index. Omitting a value defaults to 0 on the left and the length on the right."
   ]
  },
  {
   "cell_type": "code",
   "execution_count": 43,
   "metadata": {
    "collapsed": false
   },
   "outputs": [
    {
     "name": "stdout",
     "output_type": "stream",
     "text": [
      "pa\n",
      "pam\n",
      "sp\n"
     ]
    }
   ],
   "source": [
    "print(S[1:3])\n",
    "print(S[1:])\n",
    "print(S[:2])"
   ]
  },
  {
   "cell_type": "markdown",
   "metadata": {},
   "source": [
    "You can concatenate strings using '+' to create new strings"
   ]
  },
  {
   "cell_type": "code",
   "execution_count": 45,
   "metadata": {
    "collapsed": false
   },
   "outputs": [
    {
     "name": "stdout",
     "output_type": "stream",
     "text": [
      "spamxyz\n",
      "spam\n"
     ]
    }
   ],
   "source": [
    "print(S + 'xyz')\n",
    "print(S)"
   ]
  },
  {
   "cell_type": "markdown",
   "metadata": {},
   "source": [
    "However, this didn't change S... in python, strings are IMMUTABLE. This means they cannot be changed in place once they are created. Any change is reflected in a new string.\n",
    "Numbers, strings, and tuples are immutable.\n",
    "Lists, dictionaries and sets are mutable.\n",
    "\n",
    "All of the operations we've done on strings so far have been simply operations you can perform on sequences, and not necesarily specific to strings. Strings also have type specific functions (as do most other objects) such as find, replace, split, etc."
   ]
  },
  {
   "cell_type": "code",
   "execution_count": 46,
   "metadata": {
    "collapsed": false
   },
   "outputs": [
    {
     "data": {
      "text/plain": [
       "1"
      ]
     },
     "execution_count": 46,
     "metadata": {},
     "output_type": "execute_result"
    }
   ],
   "source": [
    "S = 'Spam'\n",
    "S.find('pa')                 # Find the offset of a substring in S"
   ]
  },
  {
   "cell_type": "code",
   "execution_count": 47,
   "metadata": {
    "collapsed": false
   },
   "outputs": [
    {
     "data": {
      "text/plain": [
       "'SXYZm'"
      ]
     },
     "execution_count": 47,
     "metadata": {},
     "output_type": "execute_result"
    }
   ],
   "source": [
    "S.replace('pa', 'XYZ')       # Replace occurrences of a string in S with another\n",
    "'SXYZm'"
   ]
  },
  {
   "cell_type": "code",
   "execution_count": 48,
   "metadata": {
    "collapsed": false
   },
   "outputs": [
    {
     "data": {
      "text/plain": [
       "['aaa', 'bbb', 'ccccc', 'dd']"
      ]
     },
     "execution_count": 48,
     "metadata": {},
     "output_type": "execute_result"
    }
   ],
   "source": [
    "line = 'aaa,bbb,ccccc,dd'\n",
    "line.split(',')              # Split on a delimiter into a list of substrings"
   ]
  },
  {
   "cell_type": "code",
   "execution_count": 51,
   "metadata": {
    "collapsed": false
   },
   "outputs": [
    {
     "name": "stdout",
     "output_type": "stream",
     "text": [
      "SPAM\n"
     ]
    },
    {
     "data": {
      "text/plain": [
       "True"
      ]
     },
     "execution_count": 51,
     "metadata": {},
     "output_type": "execute_result"
    }
   ],
   "source": [
    "S = 'spam'\n",
    "print(S.upper())                   # Upper- and lowercase conversions\n",
    "S.isalpha()                  # Content tests: isalpha, isdigit, etc.\n",
    "True"
   ]
  },
  {
   "cell_type": "code",
   "execution_count": 52,
   "metadata": {
    "collapsed": false
   },
   "outputs": [
    {
     "data": {
      "text/plain": [
       "['aaa', 'bbb', 'ccccc', 'dd']"
      ]
     },
     "execution_count": 52,
     "metadata": {},
     "output_type": "execute_result"
    }
   ],
   "source": [
    "line = 'aaa,bbb,ccccc,dd\\n'\n",
    "line.rstrip()                # Remove whitespace characters on the right side\n",
    "line.rstrip().split(',')     # Combine two operations"
   ]
  },
  {
   "cell_type": "markdown",
   "metadata": {},
   "source": [
    "We can also format strings in python using a few different ways, but all boil down to have a term that serves as a placeholder for a tuple of strings, which are replaced in that order."
   ]
  },
  {
   "cell_type": "code",
   "execution_count": 53,
   "metadata": {
    "collapsed": false
   },
   "outputs": [
    {
     "name": "stdout",
     "output_type": "stream",
     "text": [
      "spam, eggs, and SPAM!\n",
      "spam, eggs, and SPAM!\n",
      "spam, eggs, and SPAM!\n"
     ]
    }
   ],
   "source": [
    "print('%s, eggs, and %s' % ('spam', 'SPAM!'))        # Formatting expression (all)\n",
    "\n",
    "print('{0}, eggs, and {1}'.format('spam', 'SPAM!'))   # Formatting method (2.6+, 3.0+)\n",
    "\n",
    "print('{}, eggs, and {}'.format('spam', 'SPAM!'))    # Numbers optional (2.7+, 3.1+)"
   ]
  },
  {
   "cell_type": "markdown",
   "metadata": {},
   "source": [
    "If you ever forget methods, look up documentation or use the built in dir function, which will show all of an objects applicable attributes, then pass one to the help function to get more details."
   ]
  },
  {
   "cell_type": "code",
   "execution_count": 54,
   "metadata": {
    "collapsed": false
   },
   "outputs": [
    {
     "data": {
      "text/plain": [
       "['__add__',\n",
       " '__class__',\n",
       " '__contains__',\n",
       " '__delattr__',\n",
       " '__dir__',\n",
       " '__doc__',\n",
       " '__eq__',\n",
       " '__format__',\n",
       " '__ge__',\n",
       " '__getattribute__',\n",
       " '__getitem__',\n",
       " '__getnewargs__',\n",
       " '__gt__',\n",
       " '__hash__',\n",
       " '__init__',\n",
       " '__iter__',\n",
       " '__le__',\n",
       " '__len__',\n",
       " '__lt__',\n",
       " '__mod__',\n",
       " '__mul__',\n",
       " '__ne__',\n",
       " '__new__',\n",
       " '__reduce__',\n",
       " '__reduce_ex__',\n",
       " '__repr__',\n",
       " '__rmod__',\n",
       " '__rmul__',\n",
       " '__setattr__',\n",
       " '__sizeof__',\n",
       " '__str__',\n",
       " '__subclasshook__',\n",
       " 'capitalize',\n",
       " 'casefold',\n",
       " 'center',\n",
       " 'count',\n",
       " 'encode',\n",
       " 'endswith',\n",
       " 'expandtabs',\n",
       " 'find',\n",
       " 'format',\n",
       " 'format_map',\n",
       " 'index',\n",
       " 'isalnum',\n",
       " 'isalpha',\n",
       " 'isdecimal',\n",
       " 'isdigit',\n",
       " 'isidentifier',\n",
       " 'islower',\n",
       " 'isnumeric',\n",
       " 'isprintable',\n",
       " 'isspace',\n",
       " 'istitle',\n",
       " 'isupper',\n",
       " 'join',\n",
       " 'ljust',\n",
       " 'lower',\n",
       " 'lstrip',\n",
       " 'maketrans',\n",
       " 'partition',\n",
       " 'replace',\n",
       " 'rfind',\n",
       " 'rindex',\n",
       " 'rjust',\n",
       " 'rpartition',\n",
       " 'rsplit',\n",
       " 'rstrip',\n",
       " 'split',\n",
       " 'splitlines',\n",
       " 'startswith',\n",
       " 'strip',\n",
       " 'swapcase',\n",
       " 'title',\n",
       " 'translate',\n",
       " 'upper',\n",
       " 'zfill']"
      ]
     },
     "execution_count": 54,
     "metadata": {},
     "output_type": "execute_result"
    }
   ],
   "source": [
    "dir(S)"
   ]
  },
  {
   "cell_type": "code",
   "execution_count": 55,
   "metadata": {
    "collapsed": false
   },
   "outputs": [
    {
     "name": "stdout",
     "output_type": "stream",
     "text": [
      "Help on built-in function replace:\n",
      "\n",
      "replace(...) method of builtins.str instance\n",
      "    S.replace(old, new[, count]) -> str\n",
      "    \n",
      "    Return a copy of S with all occurrences of substring\n",
      "    old replaced by new.  If the optional argument count is\n",
      "    given, only the first count occurrences are replaced.\n",
      "\n"
     ]
    }
   ],
   "source": [
    "help(S.replace)"
   ]
  },
  {
   "cell_type": "markdown",
   "metadata": {},
   "source": [
    "Several special characters exist, denoted by a backslash (backslash escapes characters as well)"
   ]
  },
  {
   "cell_type": "code",
   "execution_count": 64,
   "metadata": {
    "collapsed": false
   },
   "outputs": [
    {
     "name": "stdout",
     "output_type": "stream",
     "text": [
      "hello\n",
      "\t\n",
      "A\u0000B\u0000C\n"
     ]
    }
   ],
   "source": [
    "print(\"hello\\n\\t\") #\\n = newline \\t = tab\n",
    "print(\"A\\0B\\0C\") #binary zero byte"
   ]
  },
  {
   "cell_type": "markdown",
   "metadata": {},
   "source": [
    "Single quotes or double? Use either, it just means the other one doesn't have to be escaped in the string. Use \"\"\" to create multi string lines which is useful for XML or HTML embedded in your python code."
   ]
  },
  {
   "cell_type": "code",
   "execution_count": 67,
   "metadata": {
    "collapsed": false
   },
   "outputs": [
    {
     "name": "stdout",
     "output_type": "stream",
     "text": [
      "\n",
      "aaaaaaaaaaaaa\n",
      "bbb'''bbbbbbbbbb\"\"bbbbbbb'bbbb\n",
      "cccccccccccccc\n",
      "\n"
     ]
    }
   ],
   "source": [
    "msg = \"\"\"\n",
    "aaaaaaaaaaaaa\n",
    "bbb'''bbbbbbbbbb\"\"bbbbbbb'bbbb\n",
    "cccccccccccccc\n",
    "\"\"\"\n",
    "print(msg)"
   ]
  },
  {
   "cell_type": "markdown",
   "metadata": {},
   "source": [
    "In python 3, all strings handle unicode just fine. We can also work with byte strings"
   ]
  },
  {
   "cell_type": "code",
   "execution_count": 68,
   "metadata": {
    "collapsed": false
   },
   "outputs": [
    {
     "name": "stdout",
     "output_type": "stream",
     "text": [
      "spÄm\n",
      "b'a\\x01c'\n"
     ]
    }
   ],
   "source": [
    "print('sp\\xc4m')                   # 3.X: normal str strings are Unicode text\n",
    "'spÄm'\n",
    "print(b'a\\x01c') # bytes strings are byte-based data"
   ]
  },
  {
   "cell_type": "markdown",
   "metadata": {},
   "source": [
    "Phew! Strings have a lot to keep in mind! They are complicated, but that's because they are so basic and integral to the very language. Before we move on, one more thing: pattern matching. Using the re library, we can pick out substrings based on regex."
   ]
  },
  {
   "cell_type": "code",
   "execution_count": 69,
   "metadata": {
    "collapsed": false
   },
   "outputs": [
    {
     "data": {
      "text/plain": [
       "'Python '"
      ]
     },
     "execution_count": 69,
     "metadata": {},
     "output_type": "execute_result"
    }
   ],
   "source": [
    "import re\n",
    "match = re.match('Hello[ \\t]*(.*)world', 'Hello    Python world')\n",
    "match.group(1)"
   ]
  },
  {
   "cell_type": "markdown",
   "metadata": {},
   "source": [
    "If you know regex, great. If not, don't worry about it in the scope of learning python. When you need it, research it. It's a whole thing of its own."
   ]
  },
  {
   "cell_type": "markdown",
   "metadata": {},
   "source": [
    "### Lists"
   ]
  },
  {
   "cell_type": "markdown",
   "metadata": {},
   "source": [
    "Lists are the most general sequence in python. They are ordered collections of any type objects, and don't have a fixed size. They are mutable. They support the index operations that strings use."
   ]
  },
  {
   "cell_type": "code",
   "execution_count": 95,
   "metadata": {
    "collapsed": false
   },
   "outputs": [
    {
     "name": "stdout",
     "output_type": "stream",
     "text": [
      "3\n",
      "123\n",
      "[123, 'spam']\n",
      "[123, 'spam', 1.23, 4, 5, 6]\n",
      "[123, 'spam', 1.23]\n"
     ]
    }
   ],
   "source": [
    "L = [123, 'spam', 1.23]\n",
    "print(len(L))\n",
    "print(L[0])\n",
    "print(L[:-1])\n",
    "print(L + [4,5,6]) #Note that this doesn't change L\n",
    "print(L)"
   ]
  },
  {
   "cell_type": "markdown",
   "metadata": {},
   "source": [
    "Unlike many other languages, lists are mutable, and can be any size. The append method expands the list's size and adds to the list. Pop removes an item at the given index. 'insert' will insert at an index, 'remove' lets you remove by value, 'extend' adds multiplte items. Most list methods change the list in place, instead of creating a new one."
   ]
  },
  {
   "cell_type": "code",
   "execution_count": 97,
   "metadata": {
    "collapsed": false
   },
   "outputs": [
    {
     "name": "stdout",
     "output_type": "stream",
     "text": [
      "[123, 'spam', 'NI', 3, 'NI']\n",
      "[123, 'spam', 3, 'NI']\n",
      "[123, 'spam', 3, 'MI', 'NI']\n"
     ]
    }
   ],
   "source": [
    "L.append('NI')\n",
    "print(L)\n",
    "L.pop(2)\n",
    "print(L)\n",
    "L.insert(3, 'MI')\n",
    "print(L)"
   ]
  },
  {
   "cell_type": "code",
   "execution_count": 87,
   "metadata": {
    "collapsed": false
   },
   "outputs": [
    {
     "name": "stdout",
     "output_type": "stream",
     "text": [
      "['aa', 'bb', 'cc']\n",
      "['cc', 'bb', 'aa']\n"
     ]
    }
   ],
   "source": [
    "M = ['bb', 'aa', 'cc']\n",
    "M.sort()\n",
    "print(M)\n",
    "M.reverse()\n",
    "print(M)"
   ]
  },
  {
   "cell_type": "markdown",
   "metadata": {},
   "source": [
    "Despite all this flexibility, we can't pick or assign to an index outside of the current length of the list.\n",
    "\n",
    "We can also create lists of lists, or nest lists. We can use this to create matrices."
   ]
  },
  {
   "cell_type": "code",
   "execution_count": 99,
   "metadata": {
    "collapsed": false
   },
   "outputs": [
    {
     "name": "stdout",
     "output_type": "stream",
     "text": [
      "[[1, 2, 3], [4, 5, 6], [7, 8, 9]]\n",
      "2\n"
     ]
    }
   ],
   "source": [
    "M = [[1, 2, 3],               # A 3 × 3 matrix, as nested lists\n",
    "         [4, 5, 6],               # Code can span lines if bracketed\n",
    "         [7, 8, 9]]\n",
    "print(M)\n",
    "[[1, 2, 3], [4, 5, 6], [7, 8, 9]]\n",
    "print(M[0][1])"
   ]
  },
  {
   "cell_type": "markdown",
   "metadata": {},
   "source": [
    "List comprehension is a great way to write simple, elegant code. They are written within square brackets and essentially loop a term over a dataset. Refering to the matrix above:"
   ]
  },
  {
   "cell_type": "code",
   "execution_count": 100,
   "metadata": {
    "collapsed": false
   },
   "outputs": [
    {
     "data": {
      "text/plain": [
       "[3, 6, 9]"
      ]
     },
     "execution_count": 100,
     "metadata": {},
     "output_type": "execute_result"
    }
   ],
   "source": [
    "[row[1] + 1 for row in M]   "
   ]
  },
  {
   "cell_type": "code",
   "execution_count": 101,
   "metadata": {
    "collapsed": false
   },
   "outputs": [
    {
     "data": {
      "text/plain": [
       "[2, 8]"
      ]
     },
     "execution_count": 101,
     "metadata": {},
     "output_type": "execute_result"
    }
   ],
   "source": [
    "[row[1] for row in M if row[1] % 2 == 0]"
   ]
  },
  {
   "cell_type": "code",
   "execution_count": 103,
   "metadata": {
    "collapsed": false
   },
   "outputs": [
    {
     "data": {
      "text/plain": [
       "[1, 5, 9]"
      ]
     },
     "execution_count": 103,
     "metadata": {},
     "output_type": "execute_result"
    }
   ],
   "source": [
    "[M[i][i] for i in [0, 1, 2]] "
   ]
  },
  {
   "cell_type": "code",
   "execution_count": 102,
   "metadata": {
    "collapsed": false
   },
   "outputs": [
    {
     "data": {
      "text/plain": [
       "['ss', 'pp', 'aa', 'mm']"
      ]
     },
     "execution_count": 102,
     "metadata": {},
     "output_type": "execute_result"
    }
   ],
   "source": [
    "[c * 2 for c in 'spam']  "
   ]
  },
  {
   "cell_type": "code",
   "execution_count": 105,
   "metadata": {
    "collapsed": false
   },
   "outputs": [
    {
     "data": {
      "text/plain": [
       "[[2, 1.0, 4], [4, 2.0, 8], [6, 3.0, 12]]"
      ]
     },
     "execution_count": 105,
     "metadata": {},
     "output_type": "execute_result"
    }
   ],
   "source": [
    "[[x, x / 2, x * 2] for x in range(-6, 7, 2) if x > 0]"
   ]
  },
  {
   "cell_type": "markdown",
   "metadata": {},
   "source": [
    "As you can see, these can get quite complex, and are very powerful."
   ]
  },
  {
   "cell_type": "markdown",
   "metadata": {},
   "source": [
    "Enclosing comprehension syntax can allow you to create other structures as well, such as generators, sets, and dictionaries."
   ]
  },
  {
   "cell_type": "code",
   "execution_count": 112,
   "metadata": {
    "collapsed": false
   },
   "outputs": [
    {
     "name": "stdout",
     "output_type": "stream",
     "text": [
      "6\n",
      "15\n",
      "24\n"
     ]
    }
   ],
   "source": [
    "G = (sum(row) for row in M)   \n",
    "print(next(G))\n",
    "print(next(G))\n",
    "print(next(G))"
   ]
  },
  {
   "cell_type": "code",
   "execution_count": 113,
   "metadata": {
    "collapsed": false
   },
   "outputs": [
    {
     "data": {
      "text/plain": [
       "{97, 109, 112, 115}"
      ]
     },
     "execution_count": 113,
     "metadata": {},
     "output_type": "execute_result"
    }
   ],
   "source": [
    "{ord(x) for x in 'spaam'}"
   ]
  },
  {
   "cell_type": "code",
   "execution_count": 114,
   "metadata": {
    "collapsed": false
   },
   "outputs": [
    {
     "data": {
      "text/plain": [
       "{'a': 97, 'm': 109, 'p': 112, 's': 115}"
      ]
     },
     "execution_count": 114,
     "metadata": {},
     "output_type": "execute_result"
    }
   ],
   "source": [
    "{x: ord(x) for x in 'spaam'} "
   ]
  },
  {
   "cell_type": "markdown",
   "metadata": {},
   "source": [
    "### Dictionaries"
   ]
  },
  {
   "cell_type": "markdown",
   "metadata": {},
   "source": [
    "Dictionaries are not sequences: rather, they are mappings. They store data with a key rather than a position. They are mutable. We can access values in a dictionary using the key."
   ]
  },
  {
   "cell_type": "code",
   "execution_count": 117,
   "metadata": {
    "collapsed": false
   },
   "outputs": [
    {
     "data": {
      "text/plain": [
       "'Spam'"
      ]
     },
     "execution_count": 117,
     "metadata": {},
     "output_type": "execute_result"
    }
   ],
   "source": [
    "D = {'food': 'Spam', 'quantity': 4, 'color': 'pink'}\n",
    "D['food']"
   ]
  },
  {
   "cell_type": "markdown",
   "metadata": {},
   "source": [
    "Dictionaries are usually built piece by piece, not all at once. When you add a new key, it is created."
   ]
  },
  {
   "cell_type": "code",
   "execution_count": 119,
   "metadata": {
    "collapsed": false
   },
   "outputs": [
    {
     "data": {
      "text/plain": [
       "{'age': 40, 'job': 'dev', 'name': 'Bob'}"
      ]
     },
     "execution_count": 119,
     "metadata": {},
     "output_type": "execute_result"
    }
   ],
   "source": [
    "D = {}\n",
    "D['name'] = 'Bob'      # Create keys by assignment\n",
    "D['job']  = 'dev'\n",
    "D['age']  = 40\n",
    "D"
   ]
  },
  {
   "cell_type": "markdown",
   "metadata": {},
   "source": [
    "We can also use the dict function"
   ]
  },
  {
   "cell_type": "code",
   "execution_count": 120,
   "metadata": {
    "collapsed": false
   },
   "outputs": [
    {
     "data": {
      "text/plain": [
       "{'age': 40, 'job': 'dev', 'name': 'Bob'}"
      ]
     },
     "execution_count": 120,
     "metadata": {},
     "output_type": "execute_result"
    }
   ],
   "source": [
    "bob1 = dict(name='Bob', job='dev', age=40)\n",
    "bob1"
   ]
  },
  {
   "cell_type": "code",
   "execution_count": 122,
   "metadata": {
    "collapsed": false
   },
   "outputs": [
    {
     "data": {
      "text/plain": [
       "{'age': 40, 'job': 'dev', 'name': 'Bob'}"
      ]
     },
     "execution_count": 122,
     "metadata": {},
     "output_type": "execute_result"
    }
   ],
   "source": [
    "bob2 = dict(zip(['name', 'job', 'age'],['Bob', 'dev', 40]))\n",
    "bob2"
   ]
  },
  {
   "cell_type": "markdown",
   "metadata": {},
   "source": [
    "We can also nest dictionaries"
   ]
  },
  {
   "cell_type": "code",
   "execution_count": 124,
   "metadata": {
    "collapsed": false
   },
   "outputs": [
    {
     "data": {
      "text/plain": [
       "{'age': 40.5,\n",
       " 'jobs': ['dev', 'mgr'],\n",
       " 'name': {'first': 'Bob', 'last': 'Smith'}}"
      ]
     },
     "execution_count": 124,
     "metadata": {},
     "output_type": "execute_result"
    }
   ],
   "source": [
    "rec = {'name': {'first': 'Bob', 'last': 'Smith'},\n",
    "           'jobs': ['dev', 'mgr'],\n",
    "           'age':  40.5}\n",
    "rec"
   ]
  },
  {
   "cell_type": "markdown",
   "metadata": {},
   "source": [
    "While new keys will be created when added, we can't access non-existent keys. That's why key test are very important when accessing large sets."
   ]
  },
  {
   "cell_type": "code",
   "execution_count": 125,
   "metadata": {
    "collapsed": false
   },
   "outputs": [
    {
     "data": {
      "text/plain": [
       "False"
      ]
     },
     "execution_count": 125,
     "metadata": {},
     "output_type": "execute_result"
    }
   ],
   "source": [
    "'F' in D"
   ]
  },
  {
   "cell_type": "code",
   "execution_count": 126,
   "metadata": {
    "collapsed": false
   },
   "outputs": [
    {
     "name": "stdout",
     "output_type": "stream",
     "text": [
      "missing\n"
     ]
    }
   ],
   "source": [
    "if not 'f' in D:\n",
    "    print('missing')"
   ]
  },
  {
   "cell_type": "markdown",
   "metadata": {},
   "source": [
    "Since dictionaries are unordered, we can turn them into lists if we want to access things in a sequential way. We can also use 'sorted' as a shortcut."
   ]
  },
  {
   "cell_type": "code",
   "execution_count": 132,
   "metadata": {
    "collapsed": false
   },
   "outputs": [
    {
     "name": "stdout",
     "output_type": "stream",
     "text": [
      "age => 40\n",
      "job => dev\n",
      "name => Bob\n"
     ]
    }
   ],
   "source": [
    "Ks = list(D.keys()) #keys returns a list of the dicts keys\n",
    "Ks.sort()\n",
    "for key in Ks:\n",
    "    print(key, '=>', D[key])"
   ]
  },
  {
   "cell_type": "code",
   "execution_count": 134,
   "metadata": {
    "collapsed": false
   },
   "outputs": [
    {
     "name": "stdout",
     "output_type": "stream",
     "text": [
      "age => 40\n",
      "job => dev\n",
      "name => Bob\n"
     ]
    }
   ],
   "source": [
    "for key in sorted(D):\n",
    "    print(key, '=>', D[key])"
   ]
  },
  {
   "cell_type": "markdown",
   "metadata": {},
   "source": [
    "Any object in python that is stored physically in memory, or generatable one item at a time is iterable. Generators, lists, dictionaries: all these things can be iterated through with the (sometimes hidden) iter function. Ultimately, for loops, comprehensions, etc are just leveraging iter."
   ]
  },
  {
   "cell_type": "markdown",
   "metadata": {},
   "source": [
    "### Tuples"
   ]
  },
  {
   "cell_type": "markdown",
   "metadata": {},
   "source": [
    "An immutable list. No, seriously, that's it. They can be as long as you like. Use them for fixed lists of items. Can't append or change or remove. That's about it. Use them as an integrity constraint."
   ]
  },
  {
   "cell_type": "code",
   "execution_count": 137,
   "metadata": {
    "collapsed": false
   },
   "outputs": [
    {
     "ename": "TypeError",
     "evalue": "'tuple' object does not support item assignment",
     "output_type": "error",
     "traceback": [
      "\u001b[0;31m---------------------------------------------------------------------------\u001b[0m",
      "\u001b[0;31mTypeError\u001b[0m                                 Traceback (most recent call last)",
      "\u001b[0;32m<ipython-input-137-98a5ee31864a>\u001b[0m in \u001b[0;36m<module>\u001b[0;34m()\u001b[0m\n\u001b[1;32m      1\u001b[0m \u001b[0mT\u001b[0m \u001b[0;34m=\u001b[0m \u001b[0;34m(\u001b[0m\u001b[0;36m1\u001b[0m\u001b[0;34m,\u001b[0m\u001b[0;36m2\u001b[0m\u001b[0;34m,\u001b[0m\u001b[0;36m3\u001b[0m\u001b[0;34m,\u001b[0m\u001b[0;36m4\u001b[0m\u001b[0;34m)\u001b[0m\u001b[0;34m\u001b[0m\u001b[0m\n\u001b[0;32m----> 2\u001b[0;31m \u001b[0mT\u001b[0m\u001b[0;34m[\u001b[0m\u001b[0;36m0\u001b[0m\u001b[0;34m]\u001b[0m \u001b[0;34m=\u001b[0m \u001b[0;36m2\u001b[0m\u001b[0;34m\u001b[0m\u001b[0m\n\u001b[0m",
      "\u001b[0;31mTypeError\u001b[0m: 'tuple' object does not support item assignment"
     ]
    }
   ],
   "source": [
    "T = (1,2,3,4)\n",
    "T[0] = 2 #returns an error"
   ]
  },
  {
   "cell_type": "markdown",
   "metadata": {},
   "source": [
    "### Files"
   ]
  },
  {
   "cell_type": "markdown",
   "metadata": {},
   "source": [
    "Files represent just that: any file on your system. Use the \"open\" function to access a file and bring it into your program. 'w' indicates a write action, 'r' is the default read option. The best way to read is with an iterator as demonstrated in the third block. You always get text."
   ]
  },
  {
   "cell_type": "code",
   "execution_count": 142,
   "metadata": {
    "collapsed": false
   },
   "outputs": [],
   "source": [
    "f = open('data.txt', 'w')\n",
    "f.write('Hello\\n') \n",
    "f.close()   "
   ]
  },
  {
   "cell_type": "code",
   "execution_count": 144,
   "metadata": {
    "collapsed": false
   },
   "outputs": [
    {
     "data": {
      "text/plain": [
       "'Hello\\n'"
      ]
     },
     "execution_count": 144,
     "metadata": {},
     "output_type": "execute_result"
    }
   ],
   "source": [
    "f = open('data.txt')  \n",
    "text = f.read()  \n",
    "text"
   ]
  },
  {
   "cell_type": "code",
   "execution_count": 145,
   "metadata": {
    "collapsed": false
   },
   "outputs": [
    {
     "name": "stdout",
     "output_type": "stream",
     "text": [
      "Hello\n",
      "\n"
     ]
    }
   ],
   "source": [
    "for line in open('data.txt'): print(line)"
   ]
  },
  {
   "cell_type": "markdown",
   "metadata": {},
   "source": [
    "Usually you'll work with text files, but on occasion you'll have to work with binary files which in Python 3 are handled with the 'b' modifier in open."
   ]
  },
  {
   "cell_type": "code",
   "execution_count": 146,
   "metadata": {
    "collapsed": false
   },
   "outputs": [
    {
     "name": "stdout",
     "output_type": "stream",
     "text": [
      "b'\\x00\\x00\\x00\\x07spam\\x00\\x08'\n"
     ]
    }
   ],
   "source": [
    "import struct\n",
    "packed = struct.pack('>i4sh', 7, b'spam', 8)     # Create packed binary data\n",
    "print(packed)                                         # 10 bytes, not objects or text\n",
    "file = open('data.bin', 'wb')                    # Open binary output file\n",
    "file.write(packed)                               # Write packed binary data\n",
    "file.close()"
   ]
  },
  {
   "cell_type": "code",
   "execution_count": 147,
   "metadata": {
    "collapsed": false
   },
   "outputs": [
    {
     "data": {
      "text/plain": [
       "(7, b'spam', 8)"
      ]
     },
     "execution_count": 147,
     "metadata": {},
     "output_type": "execute_result"
    }
   ],
   "source": [
    "data = open('data.bin', 'rb').read()\n",
    "struct.unpack('>i4sh', data) "
   ]
  },
  {
   "cell_type": "markdown",
   "metadata": {},
   "source": [
    "Working with non ASCII can be tricky, but python 3 makes it easier."
   ]
  },
  {
   "cell_type": "code",
   "execution_count": 150,
   "metadata": {
    "collapsed": false
   },
   "outputs": [
    {
     "name": "stdout",
     "output_type": "stream",
     "text": [
      "spÄm\n",
      "Ä\n",
      "spÄm\n"
     ]
    }
   ],
   "source": [
    "S = 'sp\\xc4m'                                          # Non-ASCII Unicode text\n",
    "print(S)\n",
    "print(S[2])                                                   # Sequence of characters\n",
    "'Ä'\n",
    "file = open('unidata.txt', 'w', encoding='utf-8')      # Write/encode UTF-8 text\n",
    "file.write(S)                                          # 4 characters written\n",
    "file.close()\n",
    "\n",
    "text = open('unidata.txt', encoding='utf-8').read()    # Read/decode UTF-8 text\n",
    "print(text)"
   ]
  },
  {
   "cell_type": "code",
   "execution_count": 153,
   "metadata": {
    "collapsed": false
   },
   "outputs": [
    {
     "data": {
      "text/plain": [
       "5"
      ]
     },
     "execution_count": 153,
     "metadata": {},
     "output_type": "execute_result"
    }
   ],
   "source": [
    "raw = open('unidata.txt', 'rb').read()                 # Read raw encoded bytes\n",
    "raw\n",
    "len(raw)                                               # Really 5 bytes in UTF-8"
   ]
  },
  {
   "cell_type": "code",
   "execution_count": 156,
   "metadata": {
    "collapsed": false
   },
   "outputs": [
    {
     "name": "stdout",
     "output_type": "stream",
     "text": [
      "b'sp\\xc3\\x84m'\n",
      "spÄm\n"
     ]
    }
   ],
   "source": [
    "print(text.encode('utf-8'))                               # Manual encode to bytes\n",
    "print(raw.decode('utf-8'))                                    # Manual decode to str"
   ]
  },
  {
   "cell_type": "markdown",
   "metadata": {},
   "source": [
    "### Other Core Types"
   ]
  },
  {
   "cell_type": "markdown",
   "metadata": {},
   "source": [
    "Sets are not mappings or sequences, rather an immutable collection of unique values."
   ]
  },
  {
   "cell_type": "code",
   "execution_count": 158,
   "metadata": {
    "collapsed": false
   },
   "outputs": [],
   "source": [
    "X = set('spam')            \n",
    "Y = {'h', 'a', 'm'}    "
   ]
  },
  {
   "cell_type": "code",
   "execution_count": 161,
   "metadata": {
    "collapsed": false
   },
   "outputs": [
    {
     "data": {
      "text/plain": [
       "({'a', 'm', 'p', 's'}, {'a', 'h', 'm'})"
      ]
     },
     "execution_count": 161,
     "metadata": {},
     "output_type": "execute_result"
    }
   ],
   "source": [
    "X, Y"
   ]
  },
  {
   "cell_type": "code",
   "execution_count": 162,
   "metadata": {
    "collapsed": false
   },
   "outputs": [
    {
     "data": {
      "text/plain": [
       "{'a', 'm'}"
      ]
     },
     "execution_count": 162,
     "metadata": {},
     "output_type": "execute_result"
    }
   ],
   "source": [
    "X & Y #intersection"
   ]
  },
  {
   "cell_type": "code",
   "execution_count": 163,
   "metadata": {
    "collapsed": false
   },
   "outputs": [
    {
     "data": {
      "text/plain": [
       "{'a', 'h', 'm', 'p', 's'}"
      ]
     },
     "execution_count": 163,
     "metadata": {},
     "output_type": "execute_result"
    }
   ],
   "source": [
    "X | Y #Union"
   ]
  },
  {
   "cell_type": "code",
   "execution_count": 164,
   "metadata": {
    "collapsed": false
   },
   "outputs": [
    {
     "data": {
      "text/plain": [
       "{'p', 's'}"
      ]
     },
     "execution_count": 164,
     "metadata": {},
     "output_type": "execute_result"
    }
   ],
   "source": [
    "X - Y #Difference"
   ]
  },
  {
   "cell_type": "code",
   "execution_count": 165,
   "metadata": {
    "collapsed": false
   },
   "outputs": [
    {
     "data": {
      "text/plain": [
       "False"
      ]
     },
     "execution_count": 165,
     "metadata": {},
     "output_type": "execute_result"
    }
   ],
   "source": [
    "X > Y #Superset"
   ]
  },
  {
   "cell_type": "code",
   "execution_count": 166,
   "metadata": {
    "collapsed": false
   },
   "outputs": [
    {
     "name": "stdout",
     "output_type": "stream",
     "text": [
      "[1, 2, 3]\n",
      "{'p', 's'}\n",
      "True\n"
     ]
    }
   ],
   "source": [
    "print(list(set([1, 2, 1, 3, 1])))     # Filtering out duplicates (possibly reordered)\n",
    "print(set('spam') - set('ham'))       # Finding differences in collections\n",
    "print(set('spam') == set('asmp'))    # Order-neutral equality ('spam'=='asmp' False)\n"
   ]
  },
  {
   "cell_type": "markdown",
   "metadata": {},
   "source": [
    "Other types include floating point, decimal numbers, fraction numbers, and Booleans, as well as a None object. There is even a 'type' type, brought about by the type function that gives you the type of the object you pass to it"
   ]
  },
  {
   "cell_type": "code",
   "execution_count": 167,
   "metadata": {
    "collapsed": false
   },
   "outputs": [
    {
     "data": {
      "text/plain": [
       "list"
      ]
     },
     "execution_count": 167,
     "metadata": {},
     "output_type": "execute_result"
    }
   ],
   "source": [
    "type([])"
   ]
  },
  {
   "cell_type": "code",
   "execution_count": 168,
   "metadata": {
    "collapsed": false
   },
   "outputs": [
    {
     "data": {
      "text/plain": [
       "type"
      ]
     },
     "execution_count": 168,
     "metadata": {},
     "output_type": "execute_result"
    }
   ],
   "source": [
    "type(type([]))"
   ]
  },
  {
   "cell_type": "markdown",
   "metadata": {},
   "source": [
    "But no one likes type testing... that's one of the great flexibilities of python."
   ]
  },
  {
   "cell_type": "markdown",
   "metadata": {},
   "source": [
    "Of course, Python is an object oriented program. So you can make your own classes! These are your own types, that can represent whatever you want."
   ]
  },
  {
   "cell_type": "code",
   "execution_count": 169,
   "metadata": {
    "collapsed": true
   },
   "outputs": [],
   "source": [
    "class Worker:\n",
    "         def __init__(self, name, pay):          # Initialize when created\n",
    "             self.name = name                    # self is the new object\n",
    "             self.pay  = pay\n",
    "         def lastName(self):\n",
    "             return self.name.split()[-1]        # Split string on blanks\n",
    "         def giveRaise(self, percent):\n",
    "             self.pay *= (1.0 + percent)         # Update pay in place"
   ]
  },
  {
   "cell_type": "markdown",
   "metadata": {},
   "source": [
    "We will cover more about classes later..."
   ]
  },
  {
   "cell_type": "markdown",
   "metadata": {},
   "source": [
    "### Numerics"
   ]
  },
  {
   "cell_type": "markdown",
   "metadata": {},
   "source": [
    "Python has a large number of numeric types that can be used for all sorts of applications\n",
    "- Integer and floating-point objects\n",
    "- Complex number objects\n",
    "- Decimal\n",
    "- Fraction\n",
    "- Sets\n",
    "- Booleans\n",
    "- built-in and module functions\n",
    "- Expressions\n",
    "- Third-party extensions.\n",
    "\n",
    "1234, −24, 0, 99999999999999    Integers (unlimited size)\n",
    "\n",
    "1.23, 1., 3.14e-10, 4E210, 4.0e+210    Floating-point numbers\n",
    "\n",
    "0o177, 0x9ff, 0b101010    Octal, hex, and binary literals in 3.X\n",
    "\n",
    "0177, 0o177, 0x9ff, 0b101010 Octal, octal, hex, and binary literals in 2.X\n",
    "\n",
    "3+4j, 3.0+4.0j, 3J          Complex number literals\n",
    "\n",
    "set('spam'), {1, 2, 3, 4}    Sets: 2.X and 3.X construction forms\n",
    "\n",
    "Decimal('1.0'), Fraction(1, 3)   Decimal and fraction extension types\n",
    "\n",
    "bool(X), True, False     Boolean type and constants\n",
    "\n",
    "In Python 3, there is just one integer which encompasses the long category (large)"
   ]
  },
  {
   "cell_type": "markdown",
   "metadata": {},
   "source": [
    "Python has many built in operators that are not functions, but more like keywords\n",
    "yield x\n",
    "\n",
    "Generator function send protocol\n",
    "\n",
    "lambda args: expression\n",
    "\n",
    "Anonymous function generation\n",
    "\n",
    "x if y else z\n",
    "\n",
    "Ternary selection (x is evaluated only if y is true)\n",
    "\n",
    "x or y\n",
    "\n",
    "Logical OR (y is evaluated only if x is false)\n",
    "\n",
    "x and y\n",
    "\n",
    "Logical AND (y is evaluated only if x is true)\n",
    "\n",
    "not x\n",
    "\n",
    "Logical negation\n",
    "\n",
    "x in y, x not in y\n",
    "\n",
    "Membership (iterables, sets)\n",
    "\n",
    "x is y, x is not y\n",
    "\n",
    "Object identity tests\n",
    "\n",
    "x < y, x <= y, x > y, x >= y\n",
    "\n",
    "x == y, x != y\n",
    "\n",
    "Magnitude comparison, set subset and superset;\n",
    "\n",
    "Value equality operators\n",
    "\n",
    "x | y\n",
    "\n",
    "Bitwise OR, set union\n",
    "\n",
    "x ^ y\n",
    "\n",
    "Bitwise XOR, set symmetric difference\n",
    "\n",
    "x & y\n",
    "\n",
    "Bitwise AND, set intersection\n",
    "\n",
    "x << y, x >> y\n",
    "\n",
    "Shift x left or right by y bits\n",
    "\n",
    "x + y\n",
    "\n",
    "x – y\n",
    "\n",
    "Addition, concatenation;\n",
    "\n",
    "Subtraction, set difference\n",
    "\n",
    "x * y\n",
    "\n",
    "x % y\n",
    "\n",
    "x / y, x // y\n",
    "\n",
    "Multiplication, repetition;\n",
    "\n",
    "Remainder, format;\n",
    "\n",
    "Division: true and floor\n",
    "\n",
    "−x, +x\n",
    "\n",
    "Negation, identity\n",
    "\n",
    "˜x\n",
    "\n",
    "Bitwise NOT (inversion)\n",
    "\n",
    "x ** y\n",
    "\n",
    "Power (exponentiation)\n",
    "\n",
    "x[i]\n",
    "\n",
    "Indexing (sequence, mapping, others)\n",
    "\n",
    "x[i:j:k]\n",
    "\n",
    "Slicing\n",
    "\n",
    "x(...)\n",
    "\n",
    "Call (function, method, class, other callable)\n",
    "\n",
    "x.attr\n",
    "\n",
    "Attribute reference\n",
    "\n",
    "(...)\n",
    "\n",
    "Tuple, expression, generator expression\n",
    "\n",
    "[...]\n",
    "\n",
    "List, list comprehension\n",
    "\n",
    "{...}\n",
    "\n",
    "Dictionary, set, set and dictionary comprehensions"
   ]
  },
  {
   "cell_type": "markdown",
   "metadata": {},
   "source": [
    "Note: Python follows operator precedence in increasing order. Each of the operators above are sorted by precedence. When it comes to math, its classic order of operations. You can use parenthesis to override this."
   ]
  },
  {
   "cell_type": "code",
   "execution_count": 182,
   "metadata": {
    "collapsed": false
   },
   "outputs": [
    {
     "data": {
      "text/plain": [
       "6.15"
      ]
     },
     "execution_count": 182,
     "metadata": {},
     "output_type": "execute_result"
    }
   ],
   "source": [
    "3 + 3.15"
   ]
  },
  {
   "cell_type": "markdown",
   "metadata": {},
   "source": [
    "In the case above, we see python's practice of converting up to the most complicated type... in this case we have an integer added to a float. The result is a float.\n",
    "integer -> float -> complex\n",
    "\n",
    "Let's write some code"
   ]
  },
  {
   "cell_type": "code",
   "execution_count": 184,
   "metadata": {
    "collapsed": false
   },
   "outputs": [
    {
     "name": "stdout",
     "output_type": "stream",
     "text": [
      "4 2\n",
      "16.0\n"
     ]
    }
   ],
   "source": [
    "#We create the variables here... no need to name ahead of time\n",
    "a = 3\n",
    "b = 4\n",
    "print(a+1, a-1)\n",
    "print(2.0**b)"
   ]
  },
  {
   "cell_type": "markdown",
   "metadata": {},
   "source": [
    "When doing comparisons, you can chain tests"
   ]
  },
  {
   "cell_type": "code",
   "execution_count": 185,
   "metadata": {
    "collapsed": false
   },
   "outputs": [
    {
     "data": {
      "text/plain": [
       "True"
      ]
     },
     "execution_count": 185,
     "metadata": {},
     "output_type": "execute_result"
    }
   ],
   "source": [
    "x = 1\n",
    "y = 2\n",
    "z = 3\n",
    "x < y < z"
   ]
  },
  {
   "cell_type": "markdown",
   "metadata": {},
   "source": [
    "Always remember the limitations of floating point... you can't use an unlimited number of bits, so it can sometimes result in weird answers!"
   ]
  },
  {
   "cell_type": "code",
   "execution_count": 186,
   "metadata": {
    "collapsed": false,
    "scrolled": true
   },
   "outputs": [
    {
     "data": {
      "text/plain": [
       "False"
      ]
     },
     "execution_count": 186,
     "metadata": {},
     "output_type": "execute_result"
    }
   ],
   "source": [
    "1.1 + 2.2 == 3.3 #?????!!!!!"
   ]
  },
  {
   "cell_type": "code",
   "execution_count": 187,
   "metadata": {
    "collapsed": false
   },
   "outputs": [
    {
     "data": {
      "text/plain": [
       "3.3000000000000003"
      ]
     },
     "execution_count": 187,
     "metadata": {},
     "output_type": "execute_result"
    }
   ],
   "source": [
    "1.1 + 2.2"
   ]
  },
  {
   "cell_type": "markdown",
   "metadata": {},
   "source": [
    "In 3.X, the / now always performs true division, returning a float result that includes any remainder, regardless of operand types. The // performs floor division, which truncates the remainder and returns an integer for integer operands or a float if any operand is a float."
   ]
  },
  {
   "cell_type": "code",
   "execution_count": 191,
   "metadata": {
    "collapsed": false
   },
   "outputs": [
    {
     "data": {
      "text/plain": [
       "(3.0, 3.0, 3, 3.0)"
      ]
     },
     "execution_count": 191,
     "metadata": {},
     "output_type": "execute_result"
    }
   ],
   "source": [
    "(5 / 2), (5 / 2.0), (5 / -2.0), (5 / -2)        #3.X true division\n",
    "\n",
    "(5 // 2), (5 // 2.0), (5 // -2.0), (5 // -2)    # 3.X floor division\n",
    "\n",
    "(9 / 3), (9.0 / 3), (9 // 3), (9 // 3.0)        # Both\n"
   ]
  },
  {
   "cell_type": "markdown",
   "metadata": {},
   "source": [
    "Complex numbers... two floats added, last with a j. Next"
   ]
  },
  {
   "cell_type": "markdown",
   "metadata": {},
   "source": [
    "We can also use binary, hex, or oct to specify numbers. It's important to remember however that in memory its the same as if it was written as a decimal number. Learn these yourself... not worth going over.\n",
    "\n",
    "Don't forget your bitwise operators... this is where the binary representation can come in handy."
   ]
  },
  {
   "cell_type": "code",
   "execution_count": 192,
   "metadata": {
    "collapsed": false
   },
   "outputs": [
    {
     "data": {
      "text/plain": [
       "'0b1'"
      ]
     },
     "execution_count": 192,
     "metadata": {},
     "output_type": "execute_result"
    }
   ],
   "source": [
    "X = 0b0001          # Binary literals\n",
    "X << 2              # Shift left\n",
    "4\n",
    "bin(X << 2)         # Binary digits string\n",
    "'0b100'\n",
    "bin(X | 0b010)      # Bitwise OR: either\n",
    "'0b11'\n",
    "bin(X & 0b1)        # Bitwise AND: both\n",
    "'0b1'"
   ]
  },
  {
   "cell_type": "markdown",
   "metadata": {},
   "source": [
    "The math library contains a bunch of useful functions. You can take absolute powers, powers, sin, sqrt, etc."
   ]
  },
  {
   "cell_type": "code",
   "execution_count": 194,
   "metadata": {
    "collapsed": false
   },
   "outputs": [
    {
     "name": "stdout",
     "output_type": "stream",
     "text": [
      "3.141592653589793 2.718281828459045\n"
     ]
    },
    {
     "data": {
      "text/plain": [
       "0.03489949670250097"
      ]
     },
     "execution_count": 194,
     "metadata": {},
     "output_type": "execute_result"
    }
   ],
   "source": [
    "import math\n",
    "print(math.pi, math.e)\n",
    "math.sin(2*math.pi/180)"
   ]
  },
  {
   "cell_type": "markdown",
   "metadata": {},
   "source": [
    "There is also the decimal type... this solves the problem of inaccuracy in floats, and is constructed. It has a set precision. For example:"
   ]
  },
  {
   "cell_type": "code",
   "execution_count": 195,
   "metadata": {
    "collapsed": false
   },
   "outputs": [
    {
     "data": {
      "text/plain": [
       "-2.7755575615628914e-17"
      ]
     },
     "execution_count": 195,
     "metadata": {},
     "output_type": "execute_result"
    }
   ],
   "source": [
    "0.3-0.1-0.1-0.1 #Should be 0, but its not"
   ]
  },
  {
   "cell_type": "code",
   "execution_count": 198,
   "metadata": {
    "collapsed": false
   },
   "outputs": [
    {
     "data": {
      "text/plain": [
       "Decimal('0.0')"
      ]
     },
     "execution_count": 198,
     "metadata": {},
     "output_type": "execute_result"
    }
   ],
   "source": [
    "import decimal\n",
    "Decimal('0.1') + Decimal('0.1') + Decimal('0.1') - Decimal('0.3')"
   ]
  },
  {
   "cell_type": "code",
   "execution_count": 199,
   "metadata": {
    "collapsed": false
   },
   "outputs": [],
   "source": [
    "decimal.getcontext().prec = 4 #Set decimal precision."
   ]
  },
  {
   "cell_type": "markdown",
   "metadata": {},
   "source": [
    "Also there is the fraction type."
   ]
  },
  {
   "cell_type": "code",
   "execution_count": 201,
   "metadata": {
    "collapsed": false
   },
   "outputs": [
    {
     "name": "stdout",
     "output_type": "stream",
     "text": [
      "1/3 2/3\n"
     ]
    },
    {
     "data": {
      "text/plain": [
       "Fraction(1, 4)"
      ]
     },
     "execution_count": 201,
     "metadata": {},
     "output_type": "execute_result"
    }
   ],
   "source": [
    "from fractions import Fraction\n",
    "x = Fraction(1, 3)                    # Numerator, denominator\n",
    "y = Fraction(4, 6)  \n",
    "print(x,y)\n",
    "Fraction('.25')"
   ]
  },
  {
   "cell_type": "markdown",
   "metadata": {},
   "source": [
    "Us the .as_integer_ratio() function to get a Fraction from any number"
   ]
  },
  {
   "cell_type": "code",
   "execution_count": 203,
   "metadata": {
    "collapsed": false
   },
   "outputs": [
    {
     "data": {
      "text/plain": [
       "(5, 2)"
      ]
     },
     "execution_count": 203,
     "metadata": {},
     "output_type": "execute_result"
    }
   ],
   "source": [
    "(2.5).as_integer_ratio()               # float object method"
   ]
  },
  {
   "cell_type": "markdown",
   "metadata": {},
   "source": [
    "Sets are another great mathematical type... there can only be one of each entry.\n"
   ]
  },
  {
   "cell_type": "code",
   "execution_count": 205,
   "metadata": {
    "collapsed": false
   },
   "outputs": [
    {
     "data": {
      "text/plain": [
       "{'x', 'y'}"
      ]
     },
     "execution_count": 205,
     "metadata": {},
     "output_type": "execute_result"
    }
   ],
   "source": [
    "x = set('xyz')\n",
    "y = set('abcz')\n",
    "x - y"
   ]
  },
  {
   "cell_type": "code",
   "execution_count": 206,
   "metadata": {
    "collapsed": false
   },
   "outputs": [
    {
     "data": {
      "text/plain": [
       "{1, 2, 3, 4}"
      ]
     },
     "execution_count": 206,
     "metadata": {},
     "output_type": "execute_result"
    }
   ],
   "source": [
    "{1, 2, 3, 4} #Also create them this way"
   ]
  },
  {
   "cell_type": "markdown",
   "metadata": {},
   "source": [
    "However, it is important to remember that {} is still an empty dictionary. Empty sets must be declared as set(). Sets have some functions... add, union, intersection, etc.\n",
    "\n",
    "By definition, python sets can only hold immutable objects. Numbers, strings yes. Dictionaries lists, no. In python 3 we can also do set comprehension like with lists.\n",
    "\n",
    "Sets can be used for math, but also for filtering duplicates, finding differences,  order neutral equality tests, navigating graphs, finding common data in datasets.\n",
    "\n"
   ]
  },
  {
   "cell_type": "markdown",
   "metadata": {},
   "source": [
    "FYI Booleans are just 0 and 1 with a True False skin. Hence:"
   ]
  },
  {
   "cell_type": "code",
   "execution_count": 207,
   "metadata": {
    "collapsed": false
   },
   "outputs": [
    {
     "data": {
      "text/plain": [
       "5"
      ]
     },
     "execution_count": 207,
     "metadata": {},
     "output_type": "execute_result"
    }
   ],
   "source": [
    "True + 4"
   ]
  },
  {
   "cell_type": "code",
   "execution_count": 208,
   "metadata": {
    "collapsed": false
   },
   "outputs": [
    {
     "data": {
      "text/plain": [
       "4"
      ]
     },
     "execution_count": 208,
     "metadata": {},
     "output_type": "execute_result"
    }
   ],
   "source": [
    "False + 4"
   ]
  },
  {
   "cell_type": "markdown",
   "metadata": {},
   "source": [
    "Of course there are also many third-party math tools that have spawned their own books, like Numpy and pandas. Check them out."
   ]
  },
  {
   "cell_type": "markdown",
   "metadata": {},
   "source": [
    "## Dynamic Typing"
   ]
  },
  {
   "cell_type": "markdown",
   "metadata": {},
   "source": [
    "Something that's important to understand in python is how it performs typing. In C and Java, we have to declare variable types, while in Python we do not. This gives us some great flexibility but at the same time we have to be mindful to ensure that we don't get any unintended results.\n",
    "\n",
    "Variables in python are created when they are assigned a value."
   ]
  },
  {
   "cell_type": "code",
   "execution_count": 210,
   "metadata": {
    "collapsed": true
   },
   "outputs": [],
   "source": [
    "a = 3\n",
    "a = 'spam'\n",
    "a = [1, 2, 3]"
   ]
  },
  {
   "cell_type": "markdown",
   "metadata": {},
   "source": [
    "In this example, a now exists, but 'a' as a variable does not have a type. It's value is 3, which has the type of integer, but a could be reassigned to any other types. The notion of type exists solely within the object... variables have no information tied to them related to type. Hence in the above example we can reassign a to whatever object we want... it simply acts as a pointer to different locations in memory. You must assign a variable before you reference it in a function.\n",
    "\n",
    "Objects have two headers: a type header and reference header. The type header tells you what type the object is: int, list, string, etc. The reference header counts the number of references pointing to the object... as soon as this number drops to 0, and no variables reference that object, the memory that it takes up is reclaimed for other objects! This is called garbage collection."
   ]
  },
  {
   "cell_type": "code",
   "execution_count": 211,
   "metadata": {
    "collapsed": false
   },
   "outputs": [
    {
     "name": "stdout",
     "output_type": "stream",
     "text": [
      "3\n"
     ]
    }
   ],
   "source": [
    "a = 3\n",
    "b = a\n",
    "a = 'spam'\n",
    "print(b)"
   ]
  },
  {
   "cell_type": "markdown",
   "metadata": {},
   "source": [
    "The above example reinforces the language's reference passing model: a references a space in memory that holds 3. When we make b = a, it ALSO points to that same area in memory. When we assign a to 'spam', it simply points a to a new area in memory. b continues to point to 3. This is in part because 3 is immutable... you can't change it if you wanted to."
   ]
  },
  {
   "cell_type": "code",
   "execution_count": 212,
   "metadata": {
    "collapsed": false
   },
   "outputs": [
    {
     "name": "stdout",
     "output_type": "stream",
     "text": [
      "5\n",
      "3\n"
     ]
    }
   ],
   "source": [
    "a = 3\n",
    "b = a\n",
    "a = a + 2\n",
    "print(a)\n",
    "print(b)"
   ]
  },
  {
   "cell_type": "markdown",
   "metadata": {},
   "source": [
    "As you can see, setting a = a + 2 doesn't increment 3 to 5. You can't do that! Instead, a now points to a new area in memory that has a 5. b still points to 3. This makes side effects in Python impossible with immutable objects.\n",
    "\n",
    "With mutable objects that allow changes in place, its not that simple. We do see side effects."
   ]
  },
  {
   "cell_type": "code",
   "execution_count": 213,
   "metadata": {
    "collapsed": false
   },
   "outputs": [
    {
     "name": "stdout",
     "output_type": "stream",
     "text": [
      "[24, 3, 4]\n",
      "[24, 3, 4]\n"
     ]
    }
   ],
   "source": [
    "L1 = [2, 3, 4]        # A mutable object\n",
    "L2 = L1               # Make a reference to the same object\n",
    "L1[0] = 24            # An in-place change\n",
    "\n",
    "print(L1)                    # L1 is different\n",
    "print(L2)                    # But so is L2!"
   ]
  },
  {
   "cell_type": "markdown",
   "metadata": {},
   "source": [
    "As you can see, we modified both lists, because they both reference the same area in memory and we changed one of the indecies by overwriting the old value. If we want to avoid this, simple create a copy instead of reference."
   ]
  },
  {
   "cell_type": "code",
   "execution_count": 214,
   "metadata": {
    "collapsed": false
   },
   "outputs": [
    {
     "name": "stdout",
     "output_type": "stream",
     "text": [
      "[24, 3, 4]\n",
      "[2, 3, 4]\n"
     ]
    }
   ],
   "source": [
    "L1 = [2, 3, 4]\n",
    "L2 = L1[:]            # Make a copy of L1 (or list(L1), copy.copy(L1), etc.)\n",
    "L1[0] = 24\n",
    "\n",
    "print(L1)\n",
    "print(L2)                    # L2 is not changed"
   ]
  },
  {
   "cell_type": "markdown",
   "metadata": {},
   "source": [
    "Python doesn't always reclaim memory... some small strings and integers are stored in a system cache for efficiency's sake. This reference system leads to a distinction in what it means to be equal. There are two tests: == tests for value equality, while 'is' tests for object equality (are both variables pointing to the same object."
   ]
  },
  {
   "cell_type": "code",
   "execution_count": 215,
   "metadata": {
    "collapsed": false
   },
   "outputs": [
    {
     "name": "stdout",
     "output_type": "stream",
     "text": [
      "True\n",
      "True\n"
     ]
    }
   ],
   "source": [
    "L = [1, 2, 3]\n",
    "M = L                 # M and L reference the same object\n",
    "print(L == M)                # Same values\n",
    "print(L is M)                # Same objects"
   ]
  },
  {
   "cell_type": "code",
   "execution_count": 216,
   "metadata": {
    "collapsed": false
   },
   "outputs": [
    {
     "name": "stdout",
     "output_type": "stream",
     "text": [
      "True\n",
      "False\n"
     ]
    }
   ],
   "source": [
    "L = [1, 2, 3]\n",
    "M = [1, 2, 3]         # M and L reference different objects\n",
    "print(L == M)                # Same values\n",
    "print(L is M)                # Different objects"
   ]
  },
  {
   "cell_type": "markdown",
   "metadata": {},
   "source": [
    "## Strings"
   ]
  },
  {
   "cell_type": "markdown",
   "metadata": {},
   "source": [
    "Let's get more in depth with strings! Python technically has three string types: str is used for Unicode text including ASCII, bytes is used for binary data, and bytearray is a mutable version of bytes.\n",
    "\n",
    "We will just focus on str here. Functionally, a string can represent anything. In addition, strings are immutable sequences. Empty strings are represented as empty quotes.\n",
    "\n",
    "S = ''\n",
    "\n",
    "Empty string\n",
    "\n",
    "S = \"spam's\"\n",
    "\n",
    "Double quotes, same as single\n",
    "\n",
    "S = 's\\np\\ta\\x00m'\n",
    "\n",
    "Escape sequences\n",
    "\n",
    "S = \"\"\"...multiline...\"\"\"\n",
    "\n",
    "Triple-quoted block strings\n",
    "\n",
    "S = r'\\temp\\spam'\n",
    "\n",
    "Raw strings (no escapes)\n",
    "\n",
    "B = b'sp\\xc4m'\n",
    "\n",
    "Byte strings in 2.6, 2.7, and 3.X (Chapter 4, Chapter 37)\n",
    "\n",
    "U = u'sp\\u00c4m'\n",
    "\n",
    "Unicode strings in 2.X and 3.3+ (Chapter 4, Chapter 37)\n",
    "\n",
    "S1 + S2\n",
    "\n",
    "S * 3\n",
    "\n",
    "Concatenate, repeat\n",
    "\n",
    "S[i]\n",
    "\n",
    "S[i:j]\n",
    "\n",
    "len(S)\n",
    "\n",
    "Index, slice, length\n",
    "\n",
    "\"a %s parrot\" % kind\n",
    "\n",
    "String formatting expression\n",
    "\n",
    "\"a {0} parrot\".format(kind)\n",
    "\n",
    "String formatting method in 2.6, 2.7, and 3.X\n",
    "\n",
    "S.find('pa')\n",
    "\n",
    "**Search**\n",
    "\n",
    "S.rstrip()\n",
    "\n",
    "**remove whitespace**\n",
    "\n",
    "S.replace('pa', 'xx')\n",
    "\n",
    "**replacement**\n",
    "\n",
    "S.split(',')\n",
    "\n",
    "**split on delimiter**\n",
    "\n",
    "S.isdigit()\n",
    "\n",
    "**content test**\n",
    "\n",
    "S.lower()\n",
    "\n",
    "**case conversion**\n",
    "\n",
    "S.endswith('spam')\n",
    "\n",
    "**end test**\n",
    "\n",
    "'spam'.join(strlist)\n",
    "\n",
    "**delimiter join**\n",
    "\n",
    "S.encode('latin-1')\n",
    "\n",
    "**Unicode encoding**\n",
    "\n",
    "B.decode('utf8')\n",
    "\n",
    "**Unicode decoding, etc. (see Table 7-3)**\n",
    "\n",
    "\n",
    "for x in S: print(x)\n",
    "\n",
    "'spam' in S\n",
    "\n",
    "[c * 2 for c in S]\n",
    "\n",
    "map(ord, S)\n",
    "\n",
    "**Iteration, membership**\n",
    "\n",
    "re.match('sp(.*)am', line)\n",
    "\n",
    "**Pattern matching: library module**\n",
    "\n"
   ]
  },
  {
   "cell_type": "markdown",
   "metadata": {},
   "source": [
    "Beyond the core functions, Python also has a 're' library that allows you to do a lot more.\n",
    "\n",
    "There's a lot of way to write strings\n",
    "\n",
    "Single quotes: 'spa\"m'\n",
    "\n",
    "Double quotes: \"spa'm\"\n",
    "\n",
    "Triple quotes: '''... spam ...''', \"\"\"... spam ...\"\"\"\n",
    "\n",
    "Escape sequences: \"s\\tp\\na\\0m\"\n",
    "\n",
    "Raw strings: r\"C:\\new\\test.spm\"\n",
    "\n",
    "Bytes literals in 3.X and 2.6+ (see Chapter 4, Chapter 37): b'sp\\x01am'\n",
    "\n",
    "Unicode literals in 2.X and 3.3+ (see Chapter 4, Chapter 37): u'eggs\\u0020spam'"
   ]
  },
  {
   "cell_type": "code",
   "execution_count": 218,
   "metadata": {
    "collapsed": false
   },
   "outputs": [
    {
     "data": {
      "text/plain": [
       "('shrubbery', 'shrubbery')"
      ]
     },
     "execution_count": 218,
     "metadata": {},
     "output_type": "execute_result"
    }
   ],
   "source": [
    "('shrubbery', \"shrubbery\") #double quotes and single quotes are the same"
   ]
  },
  {
   "cell_type": "code",
   "execution_count": 219,
   "metadata": {
    "collapsed": false
   },
   "outputs": [
    {
     "data": {
      "text/plain": [
       "'Meaning of Life'"
      ]
     },
     "execution_count": 219,
     "metadata": {},
     "output_type": "execute_result"
    }
   ],
   "source": [
    "title = \"Meaning \" 'of' \" Life\"        # Implicit concatenation\n",
    "title"
   ]
  },
  {
   "cell_type": "code",
   "execution_count": 220,
   "metadata": {
    "collapsed": false
   },
   "outputs": [
    {
     "data": {
      "text/plain": [
       "(\"knight's\", 'knight\"s')"
      ]
     },
     "execution_count": 220,
     "metadata": {},
     "output_type": "execute_result"
    }
   ],
   "source": [
    "'knight\\'s', \"knight\\\"s\" #use escapes to embed quotes"
   ]
  },
  {
   "cell_type": "code",
   "execution_count": 222,
   "metadata": {
    "collapsed": false
   },
   "outputs": [
    {
     "name": "stdout",
     "output_type": "stream",
     "text": [
      "a\n",
      "b\tc\n"
     ]
    }
   ],
   "source": [
    "print('a\\nb\\tc') #\\n is a new line. \\t is a tab"
   ]
  },
  {
   "cell_type": "markdown",
   "metadata": {},
   "source": [
    "\\newline\n",
    "\n",
    "**Ignored (continuation line)**\n",
    "\n",
    "\\\\\n",
    "\n",
    "**Backslash (stores one \\)**\n",
    "\n",
    "\\'\n",
    "\n",
    "**Single quote (stores ')**\n",
    "\n",
    "\\\"\n",
    "\n",
    "**Double quote (stores \")****\n",
    "\n",
    "\\a\n",
    "\n",
    "**Bell**\n",
    "\n",
    "\\b\n",
    "\n",
    "**Backspace**\n",
    "\n",
    "\\f\n",
    "\n",
    "**Formfeed**\n",
    "\n",
    "\\n\n",
    "\n",
    "**Newline (linefeed)**\n",
    "\n",
    "\\r\n",
    "\n",
    "**Carriage return**\n",
    "\n",
    "\\t\n",
    "\n",
    "**Horizontal tab**\n",
    "\n",
    "\\v\n",
    "\n",
    "**Vertical tab**\n",
    "\n",
    "\\xhh\n",
    "\n",
    "**Character with hex value hh (exactly 2 digits)**\n",
    "\n",
    "\\ooo\n",
    "\n",
    "**Character with octal value ooo (up to 3 digits)**\n",
    "\n",
    "\\0\n",
    "\n",
    "**Null: binary 0 character (doesn’t end string)**\n",
    "\n",
    "\\N{ id }\n",
    "\n",
    "**Unicode database ID**\n",
    "\n",
    "\\uhhhh\n",
    "\n",
    "**Unicode character with 16-bit hex value**\n",
    "\n",
    "\\Uhhhhhhh\n",
    "\n",
    "**Unicode character with 32-bit hex value**\n",
    "\n",
    "\\other\n",
    "\n",
    "**Not an escape (keeps both \\ and other)**"
   ]
  },
  {
   "cell_type": "markdown",
   "metadata": {},
   "source": [
    "We can use raw strings to nullify escapes, which is important when opening files."
   ]
  },
  {
   "cell_type": "code",
   "execution_count": 224,
   "metadata": {
    "collapsed": true
   },
   "outputs": [],
   "source": [
    "myfile = open(r'C:\\new\\text.dat', 'w') #without the 'r' the \\n would be interpreted as a new line and \\t as a tab"
   ]
  },
  {
   "cell_type": "code",
   "execution_count": 225,
   "metadata": {
    "collapsed": false
   },
   "outputs": [
    {
     "data": {
      "text/plain": [
       "'Always look\\n  on the bright\\nside of life.'"
      ]
     },
     "execution_count": 225,
     "metadata": {},
     "output_type": "execute_result"
    }
   ],
   "source": [
    " mantra = \"\"\"Always look\n",
    "...   on the bright\n",
    "... side of life.\"\"\"\n",
    "mantra #newlines not interpreted, triple quotes allow multiline"
   ]
  },
  {
   "cell_type": "code",
   "execution_count": 226,
   "metadata": {
    "collapsed": false
   },
   "outputs": [
    {
     "name": "stdout",
     "output_type": "stream",
     "text": [
      "Always look\n",
      "  on the bright\n",
      "side of life.\n"
     ]
    }
   ],
   "source": [
    "print(mantra) #print will interpret these special characters for display"
   ]
  },
  {
   "cell_type": "markdown",
   "metadata": {},
   "source": [
    "Let's do stuff with strings. Basic string functions include."
   ]
  },
  {
   "cell_type": "code",
   "execution_count": 227,
   "metadata": {
    "collapsed": false
   },
   "outputs": [
    {
     "data": {
      "text/plain": [
       "3"
      ]
     },
     "execution_count": 227,
     "metadata": {},
     "output_type": "execute_result"
    }
   ],
   "source": [
    "len('abc') #number of items"
   ]
  },
  {
   "cell_type": "code",
   "execution_count": 228,
   "metadata": {
    "collapsed": false
   },
   "outputs": [
    {
     "data": {
      "text/plain": [
       "'abdxyz'"
      ]
     },
     "execution_count": 228,
     "metadata": {},
     "output_type": "execute_result"
    }
   ],
   "source": [
    "'abd' + 'xyz' #create a new string"
   ]
  },
  {
   "cell_type": "code",
   "execution_count": 229,
   "metadata": {
    "collapsed": false
   },
   "outputs": [
    {
     "data": {
      "text/plain": [
       "'Ni!Ni!Ni!Ni!Ni!Ni!Ni!Ni!'"
      ]
     },
     "execution_count": 229,
     "metadata": {},
     "output_type": "execute_result"
    }
   ],
   "source": [
    "'Ni!' * 8 #repetition"
   ]
  },
  {
   "cell_type": "code",
   "execution_count": 230,
   "metadata": {
    "collapsed": false
   },
   "outputs": [
    {
     "name": "stdout",
     "output_type": "stream",
     "text": [
      "h a c k e r "
     ]
    }
   ],
   "source": [
    "myjob = 'hacker'\n",
    "for c in myjob: print(c, end=' ')"
   ]
  },
  {
   "cell_type": "code",
   "execution_count": 232,
   "metadata": {
    "collapsed": false
   },
   "outputs": [
    {
     "data": {
      "text/plain": [
       "True"
      ]
     },
     "execution_count": 232,
     "metadata": {},
     "output_type": "execute_result"
    }
   ],
   "source": [
    "'k' in myjob"
   ]
  },
  {
   "cell_type": "code",
   "execution_count": 233,
   "metadata": {
    "collapsed": false
   },
   "outputs": [
    {
     "data": {
      "text/plain": [
       "False"
      ]
     },
     "execution_count": 233,
     "metadata": {},
     "output_type": "execute_result"
    }
   ],
   "source": [
    "'z' in myjob"
   ]
  },
  {
   "cell_type": "code",
   "execution_count": 234,
   "metadata": {
    "collapsed": false
   },
   "outputs": [
    {
     "data": {
      "text/plain": [
       "True"
      ]
     },
     "execution_count": 234,
     "metadata": {},
     "output_type": "execute_result"
    }
   ],
   "source": [
    "'spam' in 'asasdfaspamasdfas'"
   ]
  },
  {
   "cell_type": "code",
   "execution_count": 236,
   "metadata": {
    "collapsed": false
   },
   "outputs": [
    {
     "name": "stdout",
     "output_type": "stream",
     "text": [
      "s\n",
      "m\n",
      "spa\n"
     ]
    },
    {
     "data": {
      "text/plain": [
       "'spam'"
      ]
     },
     "execution_count": 236,
     "metadata": {},
     "output_type": "execute_result"
    }
   ],
   "source": [
    "S = 'spam' #of course slicing and index\n",
    "print(S[0])\n",
    "print(S[-1])\n",
    "print(S[:3])\n",
    "S[:] #top level copy"
   ]
  },
  {
   "cell_type": "code",
   "execution_count": null,
   "metadata": {
    "collapsed": true
   },
   "outputs": [],
   "source": []
  }
 ],
 "metadata": {
  "anaconda-cloud": {},
  "kernelspec": {
   "display_name": "Python 3",
   "language": "python",
   "name": "python3"
  },
  "language_info": {
   "codemirror_mode": {
    "name": "ipython",
    "version": 3
   },
   "file_extension": ".py",
   "mimetype": "text/x-python",
   "name": "python",
   "nbconvert_exporter": "python",
   "pygments_lexer": "ipython3",
   "version": "3.5.2"
  }
 },
 "nbformat": 4,
 "nbformat_minor": 0
}
